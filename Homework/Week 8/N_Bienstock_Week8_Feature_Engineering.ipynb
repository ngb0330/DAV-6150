{
 "cells": [
  {
   "cell_type": "code",
   "execution_count": 2,
   "metadata": {},
   "outputs": [],
   "source": [
    "import pandas as pd"
   ]
  },
  {
   "cell_type": "code",
   "execution_count": 7,
   "metadata": {},
   "outputs": [
    {
     "data": {
      "text/html": [
       "<div>\n",
       "<style scoped>\n",
       "    .dataframe tbody tr th:only-of-type {\n",
       "        vertical-align: middle;\n",
       "    }\n",
       "\n",
       "    .dataframe tbody tr th {\n",
       "        vertical-align: top;\n",
       "    }\n",
       "\n",
       "    .dataframe thead th {\n",
       "        text-align: right;\n",
       "    }\n",
       "</style>\n",
       "<table border=\"1\" class=\"dataframe\">\n",
       "  <thead>\n",
       "    <tr style=\"text-align: right;\">\n",
       "      <th></th>\n",
       "      <th>Country</th>\n",
       "      <th>Area(sq km)</th>\n",
       "      <th>Birth rate(births/1000 population)</th>\n",
       "      <th>Current account balance</th>\n",
       "      <th>Death rate(deaths/1000 population)</th>\n",
       "      <th>Debt - external</th>\n",
       "      <th>Electricity - consumption(kWh)</th>\n",
       "      <th>Electricity - production(kWh)</th>\n",
       "      <th>Exports</th>\n",
       "      <th>GDP</th>\n",
       "      <th>...</th>\n",
       "      <th>Oil - production(bbl/day)</th>\n",
       "      <th>Oil - proved reserves(bbl)</th>\n",
       "      <th>Population</th>\n",
       "      <th>Public debt(% of GDP)</th>\n",
       "      <th>Railways(km)</th>\n",
       "      <th>Reserves of foreign exchange &amp; gold</th>\n",
       "      <th>Telephones - main lines in use</th>\n",
       "      <th>Telephones - mobile cellular</th>\n",
       "      <th>Total fertility rate(children born/woman)</th>\n",
       "      <th>Unemployment rate(%)</th>\n",
       "    </tr>\n",
       "  </thead>\n",
       "  <tbody>\n",
       "    <tr>\n",
       "      <th>0</th>\n",
       "      <td>Afghanistan</td>\n",
       "      <td>647500</td>\n",
       "      <td>47.02</td>\n",
       "      <td>NaN</td>\n",
       "      <td>20.75</td>\n",
       "      <td>8.000000e+09</td>\n",
       "      <td>6.522000e+08</td>\n",
       "      <td>5.400000e+08</td>\n",
       "      <td>4.460000e+08</td>\n",
       "      <td>2.150000e+10</td>\n",
       "      <td>...</td>\n",
       "      <td>0.0</td>\n",
       "      <td>0.000000e+00</td>\n",
       "      <td>29928987.0</td>\n",
       "      <td>NaN</td>\n",
       "      <td>NaN</td>\n",
       "      <td>NaN</td>\n",
       "      <td>33100.0</td>\n",
       "      <td>15000.0</td>\n",
       "      <td>6.75</td>\n",
       "      <td>NaN</td>\n",
       "    </tr>\n",
       "    <tr>\n",
       "      <th>1</th>\n",
       "      <td>Akrotiri</td>\n",
       "      <td>123</td>\n",
       "      <td>NaN</td>\n",
       "      <td>NaN</td>\n",
       "      <td>NaN</td>\n",
       "      <td>NaN</td>\n",
       "      <td>NaN</td>\n",
       "      <td>NaN</td>\n",
       "      <td>NaN</td>\n",
       "      <td>NaN</td>\n",
       "      <td>...</td>\n",
       "      <td>NaN</td>\n",
       "      <td>NaN</td>\n",
       "      <td>NaN</td>\n",
       "      <td>NaN</td>\n",
       "      <td>NaN</td>\n",
       "      <td>NaN</td>\n",
       "      <td>NaN</td>\n",
       "      <td>NaN</td>\n",
       "      <td>NaN</td>\n",
       "      <td>NaN</td>\n",
       "    </tr>\n",
       "    <tr>\n",
       "      <th>2</th>\n",
       "      <td>Albania</td>\n",
       "      <td>28748</td>\n",
       "      <td>15.08</td>\n",
       "      <td>-5.040000e+08</td>\n",
       "      <td>5.12</td>\n",
       "      <td>1.410000e+09</td>\n",
       "      <td>6.760000e+09</td>\n",
       "      <td>5.680000e+09</td>\n",
       "      <td>5.524000e+08</td>\n",
       "      <td>1.746000e+10</td>\n",
       "      <td>...</td>\n",
       "      <td>2000.0</td>\n",
       "      <td>1.855000e+08</td>\n",
       "      <td>3563112.0</td>\n",
       "      <td>NaN</td>\n",
       "      <td>447.0</td>\n",
       "      <td>1.206000e+09</td>\n",
       "      <td>255000.0</td>\n",
       "      <td>1100000.0</td>\n",
       "      <td>2.04</td>\n",
       "      <td>14.8</td>\n",
       "    </tr>\n",
       "    <tr>\n",
       "      <th>3</th>\n",
       "      <td>Algeria</td>\n",
       "      <td>2381740</td>\n",
       "      <td>17.13</td>\n",
       "      <td>1.190000e+10</td>\n",
       "      <td>4.60</td>\n",
       "      <td>2.190000e+10</td>\n",
       "      <td>2.361000e+10</td>\n",
       "      <td>2.576000e+10</td>\n",
       "      <td>3.216000e+10</td>\n",
       "      <td>2.123000e+11</td>\n",
       "      <td>...</td>\n",
       "      <td>1200000.0</td>\n",
       "      <td>1.187000e+10</td>\n",
       "      <td>32531853.0</td>\n",
       "      <td>37.4</td>\n",
       "      <td>3973.0</td>\n",
       "      <td>4.355000e+10</td>\n",
       "      <td>2199600.0</td>\n",
       "      <td>1447310.0</td>\n",
       "      <td>1.92</td>\n",
       "      <td>25.4</td>\n",
       "    </tr>\n",
       "    <tr>\n",
       "      <th>4</th>\n",
       "      <td>American Samoa</td>\n",
       "      <td>199</td>\n",
       "      <td>23.13</td>\n",
       "      <td>NaN</td>\n",
       "      <td>3.33</td>\n",
       "      <td>NaN</td>\n",
       "      <td>1.209000e+08</td>\n",
       "      <td>1.300000e+08</td>\n",
       "      <td>3.000000e+07</td>\n",
       "      <td>5.000000e+08</td>\n",
       "      <td>...</td>\n",
       "      <td>0.0</td>\n",
       "      <td>NaN</td>\n",
       "      <td>57881.0</td>\n",
       "      <td>NaN</td>\n",
       "      <td>NaN</td>\n",
       "      <td>NaN</td>\n",
       "      <td>15000.0</td>\n",
       "      <td>2377.0</td>\n",
       "      <td>3.25</td>\n",
       "      <td>6.0</td>\n",
       "    </tr>\n",
       "  </tbody>\n",
       "</table>\n",
       "<p>5 rows × 45 columns</p>\n",
       "</div>"
      ],
      "text/plain": [
       "          Country  Area(sq km)  Birth rate(births/1000 population)  \\\n",
       "0     Afghanistan       647500                               47.02   \n",
       "1        Akrotiri          123                                 NaN   \n",
       "2         Albania        28748                               15.08   \n",
       "3         Algeria      2381740                               17.13   \n",
       "4  American Samoa          199                               23.13   \n",
       "\n",
       "   Current account balance  Death rate(deaths/1000 population)  \\\n",
       "0                      NaN                               20.75   \n",
       "1                      NaN                                 NaN   \n",
       "2            -5.040000e+08                                5.12   \n",
       "3             1.190000e+10                                4.60   \n",
       "4                      NaN                                3.33   \n",
       "\n",
       "   Debt - external  Electricity - consumption(kWh)  \\\n",
       "0     8.000000e+09                    6.522000e+08   \n",
       "1              NaN                             NaN   \n",
       "2     1.410000e+09                    6.760000e+09   \n",
       "3     2.190000e+10                    2.361000e+10   \n",
       "4              NaN                    1.209000e+08   \n",
       "\n",
       "   Electricity - production(kWh)       Exports           GDP  ...  \\\n",
       "0                   5.400000e+08  4.460000e+08  2.150000e+10  ...   \n",
       "1                            NaN           NaN           NaN  ...   \n",
       "2                   5.680000e+09  5.524000e+08  1.746000e+10  ...   \n",
       "3                   2.576000e+10  3.216000e+10  2.123000e+11  ...   \n",
       "4                   1.300000e+08  3.000000e+07  5.000000e+08  ...   \n",
       "\n",
       "   Oil - production(bbl/day)  Oil - proved reserves(bbl)  Population  \\\n",
       "0                        0.0                0.000000e+00  29928987.0   \n",
       "1                        NaN                         NaN         NaN   \n",
       "2                     2000.0                1.855000e+08   3563112.0   \n",
       "3                  1200000.0                1.187000e+10  32531853.0   \n",
       "4                        0.0                         NaN     57881.0   \n",
       "\n",
       "   Public debt(% of GDP)  Railways(km)  Reserves of foreign exchange & gold  \\\n",
       "0                    NaN           NaN                                  NaN   \n",
       "1                    NaN           NaN                                  NaN   \n",
       "2                    NaN         447.0                         1.206000e+09   \n",
       "3                   37.4        3973.0                         4.355000e+10   \n",
       "4                    NaN           NaN                                  NaN   \n",
       "\n",
       "   Telephones - main lines in use  Telephones - mobile cellular  \\\n",
       "0                         33100.0                       15000.0   \n",
       "1                             NaN                           NaN   \n",
       "2                        255000.0                     1100000.0   \n",
       "3                       2199600.0                     1447310.0   \n",
       "4                         15000.0                        2377.0   \n",
       "\n",
       "   Total fertility rate(children born/woman)  Unemployment rate(%)  \n",
       "0                                       6.75                   NaN  \n",
       "1                                        NaN                   NaN  \n",
       "2                                       2.04                  14.8  \n",
       "3                                       1.92                  25.4  \n",
       "4                                       3.25                   6.0  \n",
       "\n",
       "[5 rows x 45 columns]"
      ]
     },
     "execution_count": 7,
     "metadata": {},
     "output_type": "execute_result"
    }
   ],
   "source": [
    "countries_data = pd.read_csv(\"https://raw.githubusercontent.com/ngb0330/DAV-6150/master/Datasets/factbook.csv\", \n",
    "                             sep = \";\", skiprows = [1])\n",
    "countries_data.head()"
   ]
  },
  {
   "cell_type": "code",
   "execution_count": 9,
   "metadata": {},
   "outputs": [
    {
     "data": {
      "text/plain": [
       "Country                                            object\n",
       "Area(sq km)                                         int64\n",
       "Birth rate(births/1000 population)                float64\n",
       "Current account balance                           float64\n",
       "Death rate(deaths/1000 population)                float64\n",
       "Debt - external                                   float64\n",
       "Electricity - consumption(kWh)                    float64\n",
       "Electricity - production(kWh)                     float64\n",
       "Exports                                           float64\n",
       "GDP                                               float64\n",
       "GDP - per capita                                  float64\n",
       "GDP - real growth rate(%)                         float64\n",
       "HIV/AIDS - adult prevalence rate(%)               float64\n",
       "HIV/AIDS - deaths                                 float64\n",
       "HIV/AIDS - people living with HIV/AIDS            float64\n",
       "Highways(km)                                      float64\n",
       "Imports                                           float64\n",
       "Industrial production growth rate(%)              float64\n",
       "Infant mortality rate(deaths/1000 live births)    float64\n",
       "Inflation rate (consumer prices)(%)               float64\n",
       "Internet hosts                                    float64\n",
       "Internet users                                    float64\n",
       "Investment (gross fixed)(% of GDP)                float64\n",
       "Labor force                                       float64\n",
       "Life expectancy at birth(years)                   float64\n",
       "Military expenditures - dollar figure             float64\n",
       "Military expenditures - percent of GDP(%)         float64\n",
       "Natural gas - consumption(cu m)                   float64\n",
       "Natural gas - exports(cu m)                       float64\n",
       "Natural gas - imports(cu m)                       float64\n",
       "Natural gas - production(cu m)                    float64\n",
       "Natural gas - proved reserves(cu m)               float64\n",
       "Oil - consumption(bbl/day)                        float64\n",
       "Oil - exports(bbl/day)                            float64\n",
       "Oil - imports(bbl/day)                            float64\n",
       "Oil - production(bbl/day)                         float64\n",
       "Oil - proved reserves(bbl)                        float64\n",
       "Population                                        float64\n",
       "Public debt(% of GDP)                             float64\n",
       "Railways(km)                                      float64\n",
       "Reserves of foreign exchange & gold               float64\n",
       "Telephones - main lines in use                    float64\n",
       "Telephones - mobile cellular                      float64\n",
       "Total fertility rate(children born/woman)         float64\n",
       "Unemployment rate(%)                              float64\n",
       "dtype: object"
      ]
     },
     "execution_count": 9,
     "metadata": {},
     "output_type": "execute_result"
    }
   ],
   "source": [
    "countries_data.dtypes"
   ]
  },
  {
   "cell_type": "code",
   "execution_count": 11,
   "metadata": {},
   "outputs": [
    {
     "data": {
      "text/plain": [
       "(263, 45)"
      ]
     },
     "execution_count": 11,
     "metadata": {},
     "output_type": "execute_result"
    }
   ],
   "source": [
    "countries_data.shape"
   ]
  },
  {
   "cell_type": "code",
   "execution_count": 12,
   "metadata": {},
   "outputs": [],
   "source": [
    "def nas_sorted(df):\n",
    "    return df.isnull().sum().sort_values(ascending = False)"
   ]
  },
  {
   "cell_type": "code",
   "execution_count": 14,
   "metadata": {},
   "outputs": [],
   "source": [
    "sorted_nas = nas_sorted(countries_data)"
   ]
  },
  {
   "cell_type": "code",
   "execution_count": 15,
   "metadata": {},
   "outputs": [
    {
     "data": {
      "text/plain": [
       "Oil - imports(bbl/day)        217\n",
       "Oil - exports(bbl/day)        205\n",
       "Oil - proved reserves(bbl)    166\n",
       "dtype: int64"
      ]
     },
     "execution_count": 15,
     "metadata": {},
     "output_type": "execute_result"
    }
   ],
   "source": [
    "sorted_nas[0:3]"
   ]
  },
  {
   "cell_type": "code",
   "execution_count": 16,
   "metadata": {},
   "outputs": [
    {
     "data": {
      "text/plain": [
       "array([1.1800e+07,        nan, 1.0900e+06, 9.9100e+06, 1.4000e+04,\n",
       "       3.3000e+04, 5.4100e+06, 6.0490e+03, 3.0000e+04, 1.5040e+07,\n",
       "       1.4000e+06, 4.1500e+04, 1.0350e+07, 3.4500e+06, 5.0900e+06,\n",
       "       1.5600e+05, 3.7000e+05, 6.5490e+07, 1.2850e+05, 4.3050e+06,\n",
       "       4.7500e+06, 9.0000e+04, 3.7470e+04, 3.8000e+06, 1.0260e+06,\n",
       "       2.6400e+05, 8.9000e+07, 1.2770e+04, 1.5800e+05, 3.3980e+06,\n",
       "       5.0000e+06, 2.7010e+07, 2.9900e+06, 7.0000e+06, 6.6800e+06,\n",
       "       1.7370e+07, 1.9820e+04, 6.2000e+06, 7.6080e+08, 2.0700e+07,\n",
       "       1.4450e+05, 1.4510e+07, 8.0000e+03, 1.8100e+06, 6.7000e+06,\n",
       "       1.7100e+06, 4.5500e+06, 9.5025e+04, 5.2500e+06, 2.8700e+06,\n",
       "       2.8200e+05, 2.5000e+04, 4.5300e+06, 2.0710e+07, 2.7500e+06,\n",
       "       6.6000e+05, 2.1500e+08, 1.1000e+03, 2.4250e+04, 1.3700e+05,\n",
       "       2.6600e+06, 2.7700e+07, 5.8800e+04, 7.0000e+04, 6.5000e+05,\n",
       "       4.0000e+05, 7.2500e+05, 2.1000e+06, 4.2630e+07, 1.0240e+07,\n",
       "       1.4800e+04, 4.4000e+06, 2.4500e+04, 4.2300e+04, 1.2590e+05,\n",
       "       6.0000e+04, 3.6800e+06, 3.2290e+04, 3.0000e+06, 4.8000e+05,\n",
       "       4.1800e+05, 3.6000e+06, 2.4700e+06, 3.5400e+06, 4.1700e+06,\n",
       "       1.5810e+05, 4.8220e+08, 1.1150e+08, 2.3000e+07, 1.9200e+06,\n",
       "       2.6800e+06, 2.4270e+07, 1.1400e+06, 6.6970e+07, 5.2790e+04,\n",
       "       1.4100e+06, 7.9500e+06, 1.1400e+07, 7.8700e+03, 9.6000e+06,\n",
       "       2.2900e+07, 1.4200e+06, 2.7000e+06, 2.6000e+06, 1.1700e+06,\n",
       "       8.3800e+05, 1.5900e+06, 2.9000e+04, 1.6300e+06, 2.9370e+05,\n",
       "       2.3150e+05, 8.5500e+05, 7.3000e+06, 4.5000e+06, 1.0490e+07,\n",
       "       8.8000e+04, 3.9300e+06, 1.6000e+05, 3.9690e+04, 2.8700e+04,\n",
       "       1.6590e+05, 7.8600e+05, 5.6000e+05, 4.8800e+04, 3.4730e+07,\n",
       "       1.3600e+06, 3.0540e+04, 1.4880e+06, 4.5210e+03, 1.1020e+07,\n",
       "       9.2000e+06, 8.4000e+05, 1.0000e+07, 7.5300e+06, 8.9000e+04,\n",
       "       7.9400e+04, 2.0500e+06, 1.9300e+06, 5.5670e+07, 1.3450e+03,\n",
       "       6.0060e+03, 2.3800e+06, 9.2000e+05, 4.5430e+07, 9.8450e+03,\n",
       "       1.3200e+06, 3.3200e+06, 1.1000e+07, 3.5860e+07, 1.5000e+01,\n",
       "       1.7020e+07, 5.4800e+06, 1.3000e+06, 1.4000e+05, 3.0990e+05,\n",
       "       9.6600e+06, 7.1830e+07, 4.6000e+06, 3.5000e+03, 1.8170e+04,\n",
       "       4.3800e+04, 3.2610e+03, 6.7000e+04, 1.8500e+04, 6.6200e+06,\n",
       "       4.6500e+06, 3.2000e+06, 3.0900e+04, 1.3690e+06, 2.1800e+06,\n",
       "       2.2000e+06, 8.7000e+05, 2.6840e+04, 3.7000e+06, 1.6630e+07,\n",
       "       1.9330e+07, 7.2600e+06, 1.0400e+05, 3.8320e+05, 4.4600e+06,\n",
       "       3.7700e+06, 5.1200e+06, 1.0220e+07, 3.1870e+06, 1.9000e+07,\n",
       "       3.6430e+07, 1.7400e+06, 3.3910e+04, 5.9000e+05, 3.5500e+06,\n",
       "       2.5300e+07, 2.3200e+06, 4.8480e+03, 7.0000e+03, 1.2410e+07,\n",
       "       2.1110e+07, 2.3600e+06, 2.9780e+07, 1.4740e+08, 1.5600e+06,\n",
       "       1.4640e+07, 1.2250e+07, 4.2980e+07, 4.8900e+04, 3.6400e+05,\n",
       "       1.2000e+04, 5.9800e+06, 4.6300e+06, 4.2300e+06])"
      ]
     },
     "execution_count": 16,
     "metadata": {},
     "output_type": "execute_result"
    }
   ],
   "source": [
    "countries_data['Labor force'].unique()"
   ]
  },
  {
   "cell_type": "code",
   "execution_count": 17,
   "metadata": {},
   "outputs": [],
   "source": [
    "def informative(df):\n",
    "    non_informative = [column for column in df.columns if len(df[column].unique()) == 1]\n",
    "    informative_columns = list(set(df.columns.to_list()) - set(non_informative))\n",
    "    return df[informative_columns]\n",
    "    \n",
    "def some_nans(df):\n",
    "    informative_df = informative(df)\n",
    "    some_nans_bools = pd.isnull(informative_df).any()\n",
    "    return some_nans_bools.index[some_nans_bools]\n",
    "    \n",
    "def new_na_columns(df):\n",
    "    nan_columns = some_nans(df)\n",
    "    df_nans = pd.isnull(df[nan_columns])\n",
    "    column_name_nas = [\"{column_nan}_is_na\".format(column_nan = column_nan) for column_nan in nan_columns]\n",
    "    df_nans.columns = column_name_nas\n",
    "    return df_nans\n",
    "\n",
    "def new_df_with_na_cols(df):\n",
    "    return pd.concat([df, new_na_columns(df)], axis = 1)"
   ]
  },
  {
   "cell_type": "code",
   "execution_count": 19,
   "metadata": {},
   "outputs": [
    {
     "data": {
      "text/plain": [
       "45"
      ]
     },
     "execution_count": 19,
     "metadata": {},
     "output_type": "execute_result"
    }
   ],
   "source": [
    "len(countries_data.columns)"
   ]
  },
  {
   "cell_type": "code",
   "execution_count": 20,
   "metadata": {},
   "outputs": [],
   "source": [
    "countries_data_with_na_cols = new_df_with_na_cols(countries_data)"
   ]
  },
  {
   "cell_type": "code",
   "execution_count": 21,
   "metadata": {},
   "outputs": [
    {
     "data": {
      "text/plain": [
       "88"
      ]
     },
     "execution_count": 21,
     "metadata": {},
     "output_type": "execute_result"
    }
   ],
   "source": [
    "len(countries_data_with_na_cols.columns)"
   ]
  },
  {
   "cell_type": "code",
   "execution_count": 22,
   "metadata": {},
   "outputs": [
    {
     "data": {
      "text/plain": [
       "45"
      ]
     },
     "execution_count": 22,
     "metadata": {},
     "output_type": "execute_result"
    }
   ],
   "source": [
    "len(informative(countries_data).columns)"
   ]
  },
  {
   "cell_type": "code",
   "execution_count": 23,
   "metadata": {},
   "outputs": [
    {
     "data": {
      "text/plain": [
       "Index(['Country', 'Area(sq km)', 'Birth rate(births/1000 population)',\n",
       "       'Current account balance', 'Death rate(deaths/1000 population)',\n",
       "       'Debt - external', 'Electricity - consumption(kWh)',\n",
       "       'Electricity - production(kWh)', 'Exports', 'GDP', 'GDP - per capita',\n",
       "       'GDP - real growth rate(%)', 'HIV/AIDS - adult prevalence rate(%)',\n",
       "       'HIV/AIDS - deaths', 'HIV/AIDS - people living with HIV/AIDS',\n",
       "       'Highways(km)', 'Imports', 'Industrial production growth rate(%)',\n",
       "       'Infant mortality rate(deaths/1000 live births)',\n",
       "       'Inflation rate (consumer prices)(%)', 'Internet hosts',\n",
       "       'Internet users', 'Investment (gross fixed)(% of GDP)', 'Labor force',\n",
       "       'Life expectancy at birth(years)',\n",
       "       'Military expenditures - dollar figure',\n",
       "       'Military expenditures - percent of GDP(%)',\n",
       "       'Natural gas - consumption(cu m)', 'Natural gas - exports(cu m)',\n",
       "       'Natural gas - imports(cu m)', 'Natural gas - production(cu m)',\n",
       "       'Natural gas - proved reserves(cu m)', 'Oil - consumption(bbl/day)',\n",
       "       'Oil - exports(bbl/day)', 'Oil - imports(bbl/day)',\n",
       "       'Oil - production(bbl/day)', 'Oil - proved reserves(bbl)', 'Population',\n",
       "       'Public debt(% of GDP)', 'Railways(km)',\n",
       "       'Reserves of foreign exchange & gold', 'Telephones - main lines in use',\n",
       "       'Telephones - mobile cellular',\n",
       "       'Total fertility rate(children born/woman)', 'Unemployment rate(%)',\n",
       "       'HIV/AIDS - deaths_is_na', 'Oil - exports(bbl/day)_is_na',\n",
       "       'Internet hosts_is_na', 'Labor force_is_na',\n",
       "       'Electricity - production(kWh)_is_na',\n",
       "       'Life expectancy at birth(years)_is_na',\n",
       "       'Current account balance_is_na',\n",
       "       'Military expenditures - percent of GDP(%)_is_na',\n",
       "       'Industrial production growth rate(%)_is_na',\n",
       "       'Oil - consumption(bbl/day)_is_na',\n",
       "       'Inflation rate (consumer prices)(%)_is_na',\n",
       "       'Natural gas - imports(cu m)_is_na', 'Population_is_na',\n",
       "       'Telephones - mobile cellular_is_na', 'Imports_is_na',\n",
       "       'Electricity - consumption(kWh)_is_na',\n",
       "       'Reserves of foreign exchange & gold_is_na',\n",
       "       'Infant mortality rate(deaths/1000 live births)_is_na',\n",
       "       'Natural gas - proved reserves(cu m)_is_na', 'Highways(km)_is_na',\n",
       "       'Telephones - main lines in use_is_na',\n",
       "       'Total fertility rate(children born/woman)_is_na',\n",
       "       'Debt - external_is_na', 'GDP - per capita_is_na',\n",
       "       'Oil - proved reserves(bbl)_is_na',\n",
       "       'Birth rate(births/1000 population)_is_na',\n",
       "       'GDP - real growth rate(%)_is_na', 'Oil - production(bbl/day)_is_na',\n",
       "       'Oil - imports(bbl/day)_is_na',\n",
       "       'Investment (gross fixed)(% of GDP)_is_na',\n",
       "       'HIV/AIDS - adult prevalence rate(%)_is_na', 'Railways(km)_is_na',\n",
       "       'Natural gas - production(cu m)_is_na', 'Public debt(% of GDP)_is_na',\n",
       "       'GDP_is_na', 'Natural gas - consumption(cu m)_is_na',\n",
       "       'Natural gas - exports(cu m)_is_na', 'Exports_is_na',\n",
       "       'Internet users_is_na', 'Military expenditures - dollar figure_is_na',\n",
       "       'Death rate(deaths/1000 population)_is_na',\n",
       "       'Unemployment rate(%)_is_na',\n",
       "       'HIV/AIDS - people living with HIV/AIDS_is_na'],\n",
       "      dtype='object')"
      ]
     },
     "execution_count": 23,
     "metadata": {},
     "output_type": "execute_result"
    }
   ],
   "source": [
    "countries_data_with_na_cols.columns"
   ]
  },
  {
   "cell_type": "code",
   "execution_count": null,
   "metadata": {},
   "outputs": [],
   "source": []
  }
 ],
 "metadata": {
  "kernelspec": {
   "display_name": "Python 3",
   "language": "python",
   "name": "python3"
  },
  "language_info": {
   "codemirror_mode": {
    "name": "ipython",
    "version": 3
   },
   "file_extension": ".py",
   "mimetype": "text/x-python",
   "name": "python",
   "nbconvert_exporter": "python",
   "pygments_lexer": "ipython3",
   "version": "3.7.1"
  }
 },
 "nbformat": 4,
 "nbformat_minor": 2
}
