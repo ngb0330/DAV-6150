{
 "cells": [
  {
   "cell_type": "markdown",
   "metadata": {},
   "source": [
    "# ETL Lab"
   ]
  },
  {
   "cell_type": "markdown",
   "metadata": {},
   "source": [
    "### Introduction"
   ]
  },
  {
   "cell_type": "markdown",
   "metadata": {},
   "source": [
    "In this lab, we ask you to use the techniques learned in this section to work with an API of your choosing.  As important to getting to the correct code is to develop the proper procedure for getting there.  Just like in the preceding lessons we will following our procedures such as: \n",
    "\n",
    "1. Red, green, refactor\n",
    "2. Move mess into an object\n",
    "3. Make small methods by: \n",
    "    A. Commenting code\n",
    "    B. Translating comments into methods\n",
    "    \n",
    "Along the way, we will arrive at our pattern of a *Client*, *Adapter*, and *Target*."
   ]
  },
  {
   "cell_type": "markdown",
   "metadata": {},
   "source": [
    "### Step 1.  Just get the data"
   ]
  },
  {
   "cell_type": "markdown",
   "metadata": {},
   "source": [
    "The first step is to go from red to green.  That is, the code starts off with nothing working and our task is simply to get it working.  In this case, this means the following: \n",
    "\n",
    "1. Call an API of your choosing\n",
    "2. Return a list of dictionaries and store as a variable named `entities`"
   ]
  },
  {
   "cell_type": "code",
   "execution_count": 6,
   "metadata": {},
   "outputs": [],
   "source": [
    "import requests\n",
    "response = requests.get('https://rickandmortyapi.com/api/character/?status=alive')\n",
    "entities = response.json()['results']\n"
   ]
  },
  {
   "cell_type": "code",
   "execution_count": 8,
   "metadata": {},
   "outputs": [
    {
     "data": {
      "text/plain": [
       "dict"
      ]
     },
     "execution_count": 8,
     "metadata": {},
     "output_type": "execute_result"
    }
   ],
   "source": [
    "type(entities)\n",
    "# list \n",
    "\n",
    "type(entities[0])\n",
    "# dict"
   ]
  },
  {
   "cell_type": "markdown",
   "metadata": {},
   "source": [
    "### Step 2. Change the dictionaries into objects"
   ]
  },
  {
   "cell_type": "markdown",
   "metadata": {},
   "source": [
    "The next step is to change dictionaries received back from the API into objects.  We can break this down into a couple of steps.\n",
    "\n",
    "1. Create the *target class*.  This is the class the dictionaries will be transformed into.  To do this, choose no more than five attributes to store in each instance."
   ]
  },
  {
   "cell_type": "code",
   "execution_count": 17,
   "metadata": {},
   "outputs": [
    {
     "data": {
      "text/plain": [
       "{'id': 24,\n",
       " 'name': 'Armagheadon',\n",
       " 'status': 'Alive',\n",
       " 'species': 'Alien',\n",
       " 'type': 'Cromulon',\n",
       " 'gender': 'Male',\n",
       " 'origin': {'name': 'Signus 5 Expanse',\n",
       "  'url': 'https://rickandmortyapi.com/api/location/22'},\n",
       " 'location': {'name': 'Signus 5 Expanse',\n",
       "  'url': 'https://rickandmortyapi.com/api/location/22'},\n",
       " 'image': 'https://rickandmortyapi.com/api/character/avatar/24.jpeg',\n",
       " 'episode': ['https://rickandmortyapi.com/api/episode/16'],\n",
       " 'url': 'https://rickandmortyapi.com/api/character/24',\n",
       " 'created': '2017-11-05T08:48:30.776Z'}"
      ]
     },
     "execution_count": 17,
     "metadata": {},
     "output_type": "execute_result"
    }
   ],
   "source": [
    "entities[8]"
   ]
  },
  {
   "cell_type": "code",
   "execution_count": 12,
   "metadata": {},
   "outputs": [],
   "source": [
    "class Character:\n",
    "    # please change the name of this class\n",
    "    def __init__(self,name,species,gender,location):\n",
    "        self.name = name\n",
    "        self.species = species\n",
    "        self.gender = gender\n",
    "        self.location = location"
   ]
  },
  {
   "cell_type": "markdown",
   "metadata": {},
   "source": [
    "Check your work by assigning an instance to the variable `target_instance`."
   ]
  },
  {
   "cell_type": "code",
   "execution_count": 18,
   "metadata": {},
   "outputs": [
    {
     "data": {
      "text/plain": [
       "True"
      ]
     },
     "execution_count": 18,
     "metadata": {},
     "output_type": "execute_result"
    }
   ],
   "source": [
    "target_instance = Character('Armagheadon', 'Alien', 'Male', 'Signus 5 Expanse')\n",
    "3 < len( target_instance.__dict__.keys()) < 5\n",
    "# True "
   ]
  },
  {
   "cell_type": "markdown",
   "metadata": {},
   "source": [
    "1. Reject some of the data\n",
    "\n",
    "We don't want to pass all of our data into our class.  So create a smaller dictionary of just the attributes we need."
   ]
  },
  {
   "cell_type": "code",
   "execution_count": 19,
   "metadata": {},
   "outputs": [],
   "source": [
    "selected_attributes = {'name':'Armagheadon', 'species':'Alien', 'gender':'Male', 'location': 'Signus 5 Expanse' }"
   ]
  },
  {
   "cell_type": "code",
   "execution_count": 20,
   "metadata": {},
   "outputs": [
    {
     "data": {
      "text/plain": [
       "dict"
      ]
     },
     "execution_count": 20,
     "metadata": {},
     "output_type": "execute_result"
    }
   ],
   "source": [
    "type(selected_attributes)\n",
    "# dict"
   ]
  },
  {
   "cell_type": "code",
   "execution_count": 21,
   "metadata": {},
   "outputs": [
    {
     "data": {
      "text/plain": [
       "True"
      ]
     },
     "execution_count": 21,
     "metadata": {},
     "output_type": "execute_result"
    }
   ],
   "source": [
    "len(selected_attributes.keys()) == len(target_instance.__dict__.keys())\n",
    "# True"
   ]
  },
  {
   "cell_type": "markdown",
   "metadata": {},
   "source": [
    "2. Coerce dictionaries into objects\n",
    "\n",
    "A. To start, coerce just one dictionary into an object."
   ]
  },
  {
   "cell_type": "code",
   "execution_count": 22,
   "metadata": {},
   "outputs": [],
   "source": [
    "first_entity = entities[0]\n",
    "first_attributes = {'name': first_entity['name'], 'species': first_entity['species'],\n",
    "                    'gender':first_entity['gender'], 'location': first_entity['location']['name']}\n",
    "first_object = Character(first_attributes['name'], first_attributes['species'], \n",
    "                         first_attributes['gender'], first_attributes['location'] )\n",
    "# change the above line to reference your target class"
   ]
  },
  {
   "cell_type": "code",
   "execution_count": 23,
   "metadata": {},
   "outputs": [
    {
     "data": {
      "text/plain": [
       "False"
      ]
     },
     "execution_count": 23,
     "metadata": {},
     "output_type": "execute_result"
    }
   ],
   "source": [
    "list(first_object.__dict__.values()) == list(entities[0].values())\n",
    "# True"
   ]
  },
  {
   "cell_type": "code",
   "execution_count": 24,
   "metadata": {},
   "outputs": [
    {
     "data": {
      "text/plain": [
       "{'name': 'Rick Sanchez',\n",
       " 'species': 'Human',\n",
       " 'gender': 'Male',\n",
       " 'location': 'Earth (Replacement Dimension)'}"
      ]
     },
     "execution_count": 24,
     "metadata": {},
     "output_type": "execute_result"
    }
   ],
   "source": [
    "first_object.__dict__"
   ]
  },
  {
   "cell_type": "markdown",
   "metadata": {},
   "source": [
    "B. Now that you have solved for one, solve for all.  Coerce all of the dictionaries into objects.  Assign the list of objects to a variable `targets`."
   ]
  },
  {
   "cell_type": "code",
   "execution_count": 25,
   "metadata": {},
   "outputs": [],
   "source": [
    "targets = []\n",
    "for entity in entities:\n",
    "    attributes = {'name': entity['name'], 'species': entity['species'],\n",
    "                    'gender':entity['gender'], 'location': entity['location']['name']}\n",
    "    current_character = Character(attributes['name'], attributes['species'], \n",
    "                         attributes['gender'], attributes['location'] )\n",
    "    targets.append(current_character)\n"
   ]
  },
  {
   "cell_type": "code",
   "execution_count": 26,
   "metadata": {},
   "outputs": [
    {
     "data": {
      "text/plain": [
       "True"
      ]
     },
     "execution_count": 26,
     "metadata": {},
     "output_type": "execute_result"
    }
   ],
   "source": [
    "len(targets) == len(entities)\n",
    "# True"
   ]
  },
  {
   "cell_type": "markdown",
   "metadata": {},
   "source": [
    "### 3. Move the remaining code into an object \n",
    "\n",
    "At this point, we successfully have transformed a list of dictionaries from an API into a list of objects.  But we need to keep cleaning up our code.  To do this, look at the code outside of a class, and move it into a class, with a method name of run."
   ]
  },
  {
   "cell_type": "code",
   "execution_count": 50,
   "metadata": {},
   "outputs": [],
   "source": [
    "class CharacterAdapter:\n",
    "    # please change the name of this class     \n",
    "    def run(self):\n",
    "        response = requests.get('https://rickandmortyapi.com/api/character/?status=alive')\n",
    "        entities = response.json()['results']\n",
    "        targets = []\n",
    "        for entity in entities:\n",
    "            attributes = {'name': entity['name'], 'species': entity['species'],\n",
    "                    'gender':entity['gender'], 'location': entity['location']['name']}\n",
    "            current_character = Character(attributes['name'], attributes['species'], \n",
    "                         attributes['gender'], attributes['location'] )\n",
    "            targets.append(current_character)\n",
    "        return targets"
   ]
  },
  {
   "cell_type": "markdown",
   "metadata": {},
   "source": [
    "Let's marke sure that this works."
   ]
  },
  {
   "cell_type": "code",
   "execution_count": 51,
   "metadata": {},
   "outputs": [],
   "source": [
    "adapter = CharacterAdapter()\n",
    "# change the above line to reference your adapter\n",
    "results = adapter.run()"
   ]
  },
  {
   "cell_type": "code",
   "execution_count": 52,
   "metadata": {},
   "outputs": [
    {
     "data": {
      "text/plain": [
       "True"
      ]
     },
     "execution_count": 52,
     "metadata": {},
     "output_type": "execute_result"
    }
   ],
   "source": [
    "len(results) == len(targets)\n",
    "# True"
   ]
  },
  {
   "cell_type": "markdown",
   "metadata": {},
   "source": [
    "### 4. Make the methods smaller"
   ]
  },
  {
   "cell_type": "markdown",
   "metadata": {},
   "source": [
    "Next, separate out the run method in the adapter class smaller.  Do this by first writing comments in the code, and then moving the code into separate methods.  Please leave the comments in your code.  Your methods should be no longer than five lines long, and there can only be a total of one `if else` statement or `loop` per method.  Having both an `if else` and a `loop` in any method is also too complicated -- don't do it."
   ]
  },
  {
   "cell_type": "code",
   "execution_count": 53,
   "metadata": {},
   "outputs": [],
   "source": [
    "class CharacterAdapter:\n",
    "    def run(self):\n",
    "        # get data\n",
    "        character_data = self.get_data()\n",
    "        # get list of characters\n",
    "        characters = self.get_characters(character_data)\n",
    "        return characters\n",
    "    def get_data(self):\n",
    "        response = requests.get('https://rickandmortyapi.com/api/character/?status=alive')\n",
    "        entities = response.json()['results']\n",
    "        return entities\n",
    "    \n",
    "    def get_characters(self, entities):\n",
    "        targets = []\n",
    "        for entity in entities:\n",
    "            attributes = {'name': entity['name'], 'species': entity['species'],\n",
    "                    'gender':entity['gender'], 'location': entity['location']['name']}\n",
    "            current_character = Character(attributes['name'], attributes['species'], \n",
    "                         attributes['gender'], attributes['location'] )\n",
    "            targets.append(current_character)\n",
    "        return targets"
   ]
  },
  {
   "cell_type": "code",
   "execution_count": 54,
   "metadata": {},
   "outputs": [],
   "source": [
    "refactored_adapter = CharacterAdapter()\n",
    "# change the above line to reference your adapter\n",
    "refactored_results = adapter.run()\n"
   ]
  },
  {
   "cell_type": "code",
   "execution_count": 55,
   "metadata": {},
   "outputs": [
    {
     "data": {
      "text/plain": [
       "True"
      ]
     },
     "execution_count": 55,
     "metadata": {},
     "output_type": "execute_result"
    }
   ],
   "source": [
    "len(results) == len(targets) == len(refactored_results)\n"
   ]
  },
  {
   "cell_type": "markdown",
   "metadata": {},
   "source": [
    "### 5. Create the client class"
   ]
  },
  {
   "cell_type": "markdown",
   "metadata": {},
   "source": [
    "Next move calls to the API into their own separate class.  This way we can call the API but later to decide to coerce the data into different types of objects than we did above."
   ]
  },
  {
   "cell_type": "code",
   "execution_count": 64,
   "metadata": {},
   "outputs": [],
   "source": [
    "class Client:\n",
    "    def run(self):\n",
    "        response = requests.get('https://rickandmortyapi.com/api/character/?status=alive')\n",
    "        entities = response.json()['results']\n",
    "        return entities"
   ]
  },
  {
   "cell_type": "markdown",
   "metadata": {},
   "source": [
    "Place the updated Adapter class below.  Check that it still works as it did before."
   ]
  },
  {
   "cell_type": "code",
   "execution_count": 65,
   "metadata": {},
   "outputs": [],
   "source": [
    "class CharacterAdapter:\n",
    "    def run(self):\n",
    "        \n",
    "        # get data\n",
    "        character_data = Client().run()\n",
    "        # get list of characters\n",
    "        characters = self.get_characters(character_data)\n",
    "        return characters\n",
    "    \n",
    "    def get_characters(self, entities):\n",
    "        targets = []\n",
    "        for entity in entities:\n",
    "            attributes = {'name': entity['name'], 'species': entity['species'],\n",
    "                    'gender':entity['gender'], 'location': entity['location']['name']}\n",
    "            current_character = Character(attributes['name'], attributes['species'], \n",
    "                         attributes['gender'], attributes['location'] )\n",
    "            targets.append(current_character)\n",
    "        return targets"
   ]
  },
  {
   "cell_type": "code",
   "execution_count": 66,
   "metadata": {},
   "outputs": [
    {
     "data": {
      "text/plain": [
       "True"
      ]
     },
     "execution_count": 66,
     "metadata": {},
     "output_type": "execute_result"
    }
   ],
   "source": [
    "refactored_adapter = CharacterAdapter()\n",
    "\n",
    "len(refactored_adapter.run()) == len(adapter.run())"
   ]
  },
  {
   "cell_type": "markdown",
   "metadata": {},
   "source": [
    "### Summary"
   ]
  },
  {
   "cell_type": "markdown",
   "metadata": {},
   "source": [
    "Great job!  Hopefully, you saw how by building our code and then slowly refactoring our code, we can eventually get to some clean code."
   ]
  }
 ],
 "metadata": {
  "kernelspec": {
   "display_name": "Python 3",
   "language": "python",
   "name": "python3"
  },
  "language_info": {
   "codemirror_mode": {
    "name": "ipython",
    "version": 3
   },
   "file_extension": ".py",
   "mimetype": "text/x-python",
   "name": "python",
   "nbconvert_exporter": "python",
   "pygments_lexer": "ipython3",
   "version": "3.7.1"
  }
 },
 "nbformat": 4,
 "nbformat_minor": 2
}
