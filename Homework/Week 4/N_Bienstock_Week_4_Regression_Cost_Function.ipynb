{
 "cells": [
  {
   "cell_type": "markdown",
   "metadata": {},
   "source": [
    "# Evaluating a model lab"
   ]
  },
  {
   "cell_type": "markdown",
   "metadata": {},
   "source": [
    "## Review: building a model"
   ]
  },
  {
   "cell_type": "markdown",
   "metadata": {},
   "source": [
    "### 1. Reviewing our data"
   ]
  },
  {
   "cell_type": "markdown",
   "metadata": {},
   "source": [
    "Let's take another look at our restaurant data. Below we have data showing the temperatures and number of restaurant customers over five days."
   ]
  },
  {
   "cell_type": "markdown",
   "metadata": {},
   "source": [
    "| temperature        | actual customers           \n",
    "| ------------- |:-------------:| \n",
    "|    80       | 120 | \n",
    "|    65        | 100 | \n",
    "|    50        | 85 | \n",
    "|    70        | 100 | \n",
    "|    60        | 90 | \n"
   ]
  },
  {
   "cell_type": "markdown",
   "metadata": {},
   "source": [
    "We'll use our `trace_values` method to plot this data."
   ]
  },
  {
   "cell_type": "code",
   "execution_count": 1,
   "metadata": {},
   "outputs": [],
   "source": [
    "temperatures = [80, 65, 50, 70, 60]\n",
    "amounts = [120, 100, 85, 100, 90]"
   ]
  },
  {
   "cell_type": "code",
   "execution_count": 2,
   "metadata": {},
   "outputs": [
    {
     "data": {
      "text/html": [
       "<script type=\"text/javascript\">window.PlotlyConfig = {MathJaxConfig: 'local'};</script><script type=\"text/javascript\">if (window.MathJax) {MathJax.Hub.Config({SVG: {font: \"STIX-Web\"}});}</script><script>requirejs.config({paths: { 'plotly': ['https://cdn.plot.ly/plotly-latest.min']},});if(!window._Plotly) {require(['plotly'],function(plotly) {window._Plotly=plotly;});}</script>"
      ],
      "text/vnd.plotly.v1+html": [
       "<script type=\"text/javascript\">window.PlotlyConfig = {MathJaxConfig: 'local'};</script><script type=\"text/javascript\">if (window.MathJax) {MathJax.Hub.Config({SVG: {font: \"STIX-Web\"}});}</script><script>requirejs.config({paths: { 'plotly': ['https://cdn.plot.ly/plotly-latest.min']},});if(!window._Plotly) {require(['plotly'],function(plotly) {window._Plotly=plotly;});}</script>"
      ]
     },
     "metadata": {},
     "output_type": "display_data"
    },
    {
     "data": {
      "application/vnd.plotly.v1+json": {
       "config": {
        "linkText": "Export to plot.ly",
        "plotlyServerURL": "https://plot.ly",
        "showLink": false
       },
       "data": [
        {
         "mode": "markers",
         "name": "data",
         "text": [],
         "type": "scatter",
         "uid": "5777f846-2282-4c73-8d3c-ce67366334e3",
         "x": [
          80,
          65,
          50,
          70,
          60
         ],
         "y": [
          120,
          100,
          85,
          100,
          90
         ]
        }
       ],
       "layout": {}
      },
      "text/html": [
       "<div id=\"a1d233e1-fd71-470c-873d-100b506bd08f\" style=\"height: 525px; width: 100%;\" class=\"plotly-graph-div\"></div><script type=\"text/javascript\">require([\"plotly\"], function(Plotly) { window.PLOTLYENV=window.PLOTLYENV || {};window.PLOTLYENV.BASE_URL=\"https://plot.ly\";\n",
       "if (document.getElementById(\"a1d233e1-fd71-470c-873d-100b506bd08f\")) {\n",
       "    Plotly.newPlot(\"a1d233e1-fd71-470c-873d-100b506bd08f\", [{\"mode\": \"markers\", \"name\": \"data\", \"text\": [], \"x\": [80, 65, 50, 70, 60], \"y\": [120, 100, 85, 100, 90], \"type\": \"scatter\", \"uid\": \"c1ccc39b-7f5a-46c8-92b0-a72782d40862\"}], {}, {\"showLink\": false, \"linkText\": \"Export to plot.ly\", \"plotlyServerURL\": \"https://plot.ly\"}); \n",
       "}\n",
       "});</script><script type=\"text/javascript\">window.addEventListener(\"resize\", function(){if (document.getElementById(\"a1d233e1-fd71-470c-873d-100b506bd08f\")) {window._Plotly.Plots.resize(document.getElementById(\"a1d233e1-fd71-470c-873d-100b506bd08f\"));};})</script>"
      ],
      "text/vnd.plotly.v1+html": [
       "<div id=\"a1d233e1-fd71-470c-873d-100b506bd08f\" style=\"height: 525px; width: 100%;\" class=\"plotly-graph-div\"></div><script type=\"text/javascript\">require([\"plotly\"], function(Plotly) { window.PLOTLYENV=window.PLOTLYENV || {};window.PLOTLYENV.BASE_URL=\"https://plot.ly\";\n",
       "if (document.getElementById(\"a1d233e1-fd71-470c-873d-100b506bd08f\")) {\n",
       "    Plotly.newPlot(\"a1d233e1-fd71-470c-873d-100b506bd08f\", [{\"mode\": \"markers\", \"name\": \"data\", \"text\": [], \"x\": [80, 65, 50, 70, 60], \"y\": [120, 100, 85, 100, 90], \"type\": \"scatter\", \"uid\": \"c1ccc39b-7f5a-46c8-92b0-a72782d40862\"}], {}, {\"showLink\": false, \"linkText\": \"Export to plot.ly\", \"plotlyServerURL\": \"https://plot.ly\"}); \n",
       "}\n",
       "});</script><script type=\"text/javascript\">window.addEventListener(\"resize\", function(){if (document.getElementById(\"a1d233e1-fd71-470c-873d-100b506bd08f\")) {window._Plotly.Plots.resize(document.getElementById(\"a1d233e1-fd71-470c-873d-100b506bd08f\"));};})</script>"
      ]
     },
     "metadata": {},
     "output_type": "display_data"
    }
   ],
   "source": [
    "from graph import trace_values, plot\n",
    "data_trace = trace_values(temperatures, amounts)\n",
    "plot([data_trace])"
   ]
  },
  {
   "cell_type": "markdown",
   "metadata": {},
   "source": [
    "### 2. Building a model"
   ]
  },
  {
   "cell_type": "markdown",
   "metadata": {},
   "source": [
    "We start to see that there's an association between temperature and the amount of customers in the restaurant.  It looks like an increase in temperature is associated with an increase in temperature, so we start with the following formula as our machine learning model.\n",
    "\n",
    "$$ amount\\_of\\_customers = 1.3 * temperature $$"
   ]
  },
  {
   "cell_type": "markdown",
   "metadata": {},
   "source": [
    "Now we can translate this into formula into the following function."
   ]
  },
  {
   "cell_type": "code",
   "execution_count": 3,
   "metadata": {},
   "outputs": [],
   "source": [
    "def predicted_customers(temperature):\n",
    "    return 1.3*temperature"
   ]
  },
  {
   "cell_type": "markdown",
   "metadata": {},
   "source": [
    "And we can plot these like so."
   ]
  },
  {
   "cell_type": "code",
   "execution_count": 4,
   "metadata": {},
   "outputs": [
    {
     "data": {
      "application/vnd.plotly.v1+json": {
       "config": {
        "linkText": "Export to plot.ly",
        "plotlyServerURL": "https://plot.ly",
        "showLink": false
       },
       "data": [
        {
         "mode": "markers",
         "name": "actual",
         "text": [],
         "type": "scatter",
         "uid": "96091f5b-368c-4e77-83a4-a880795dd7b8",
         "x": [
          80,
          65,
          50,
          70,
          60
         ],
         "y": [
          120,
          100,
          85,
          100,
          90
         ]
        },
        {
         "mode": "lines",
         "name": "expected",
         "text": [],
         "type": "scatter",
         "uid": "f8f9bb06-cdf5-4793-9652-2b06bbea6d22",
         "x": [
          80,
          65,
          50,
          70,
          60
         ],
         "y": [
          104,
          84.5,
          65,
          91,
          78
         ]
        }
       ],
       "layout": {
        "xaxis": {
         "title": {
          "text": "temperature"
         }
        },
        "yaxis": {
         "title": {
          "text": "customers"
         }
        }
       }
      },
      "text/html": [
       "<div id=\"77aeb7ba-712d-4e57-b35e-b4b989504c8d\" style=\"height: 525px; width: 100%;\" class=\"plotly-graph-div\"></div><script type=\"text/javascript\">require([\"plotly\"], function(Plotly) { window.PLOTLYENV=window.PLOTLYENV || {};window.PLOTLYENV.BASE_URL=\"https://plot.ly\";\n",
       "if (document.getElementById(\"77aeb7ba-712d-4e57-b35e-b4b989504c8d\")) {\n",
       "    Plotly.newPlot(\"77aeb7ba-712d-4e57-b35e-b4b989504c8d\", [{\"mode\": \"markers\", \"name\": \"actual\", \"text\": [], \"x\": [80, 65, 50, 70, 60], \"y\": [120, 100, 85, 100, 90], \"type\": \"scatter\", \"uid\": \"740af2e6-db76-49bc-ba01-923f58ed5a8e\"}, {\"mode\": \"lines\", \"name\": \"expected\", \"text\": [], \"x\": [80, 65, 50, 70, 60], \"y\": [104.0, 84.5, 65.0, 91.0, 78.0], \"type\": \"scatter\", \"uid\": \"cb67d57e-cb78-41f2-bd6f-2b52410e6c97\"}], {\"xaxis\": {\"title\": {\"text\": \"temperature\"}}, \"yaxis\": {\"title\": {\"text\": \"customers\"}}}, {\"showLink\": false, \"linkText\": \"Export to plot.ly\", \"plotlyServerURL\": \"https://plot.ly\"}); \n",
       "}\n",
       "});</script><script type=\"text/javascript\">window.addEventListener(\"resize\", function(){if (document.getElementById(\"77aeb7ba-712d-4e57-b35e-b4b989504c8d\")) {window._Plotly.Plots.resize(document.getElementById(\"77aeb7ba-712d-4e57-b35e-b4b989504c8d\"));};})</script>"
      ],
      "text/vnd.plotly.v1+html": [
       "<div id=\"77aeb7ba-712d-4e57-b35e-b4b989504c8d\" style=\"height: 525px; width: 100%;\" class=\"plotly-graph-div\"></div><script type=\"text/javascript\">require([\"plotly\"], function(Plotly) { window.PLOTLYENV=window.PLOTLYENV || {};window.PLOTLYENV.BASE_URL=\"https://plot.ly\";\n",
       "if (document.getElementById(\"77aeb7ba-712d-4e57-b35e-b4b989504c8d\")) {\n",
       "    Plotly.newPlot(\"77aeb7ba-712d-4e57-b35e-b4b989504c8d\", [{\"mode\": \"markers\", \"name\": \"actual\", \"text\": [], \"x\": [80, 65, 50, 70, 60], \"y\": [120, 100, 85, 100, 90], \"type\": \"scatter\", \"uid\": \"740af2e6-db76-49bc-ba01-923f58ed5a8e\"}, {\"mode\": \"lines\", \"name\": \"expected\", \"text\": [], \"x\": [80, 65, 50, 70, 60], \"y\": [104.0, 84.5, 65.0, 91.0, 78.0], \"type\": \"scatter\", \"uid\": \"cb67d57e-cb78-41f2-bd6f-2b52410e6c97\"}], {\"xaxis\": {\"title\": {\"text\": \"temperature\"}}, \"yaxis\": {\"title\": {\"text\": \"customers\"}}}, {\"showLink\": false, \"linkText\": \"Export to plot.ly\", \"plotlyServerURL\": \"https://plot.ly\"}); \n",
       "}\n",
       "});</script><script type=\"text/javascript\">window.addEventListener(\"resize\", function(){if (document.getElementById(\"77aeb7ba-712d-4e57-b35e-b4b989504c8d\")) {window._Plotly.Plots.resize(document.getElementById(\"77aeb7ba-712d-4e57-b35e-b4b989504c8d\"));};})</script>"
      ]
     },
     "metadata": {},
     "output_type": "display_data"
    }
   ],
   "source": [
    "from graph import trace_values, plot\n",
    "data_trace = trace_values(temperatures, amounts, name = 'actual')\n",
    "predicted_amounts = list(map(lambda temperature: 1.3*temperature,temperatures))\n",
    "model_trace = trace_values(temperatures, predicted_amounts, name = 'expected', mode = 'lines')\n",
    "\n",
    "layout = {'yaxis': {'title': 'customers'}, 'xaxis': {'title': 'temperature'}}\n",
    "plot([data_trace, model_trace], layout = layout)"
   ]
  },
  {
   "cell_type": "markdown",
   "metadata": {},
   "source": [
    "## Do: Evaluate the model"
   ]
  },
  {
   "cell_type": "markdown",
   "metadata": {},
   "source": [
    "To evaluate the model, let's start by calculating the error at each point."
   ]
  },
  {
   "cell_type": "markdown",
   "metadata": {},
   "source": [
    "| temperature   | actual customers | expected customers| error | \n",
    "| ------------- |:-------------:   |:-----------------:|:-----:| \n",
    "|    80         | 120              | 104               | ?     |\n",
    "|    65         | 100              | 84.5              | ?     |\n",
    "|    50         | 85               | 65                | 15    |\n",
    "|    70         | 100              | 91                | 9     |\n",
    "|    60         | 90               | 78                | 12    |\n"
   ]
  },
  {
   "cell_type": "code",
   "execution_count": 5,
   "metadata": {},
   "outputs": [],
   "source": [
    "error_day_1 = 120-104"
   ]
  },
  {
   "cell_type": "code",
   "execution_count": 6,
   "metadata": {},
   "outputs": [],
   "source": [
    "error_day_2 = 100-84.5"
   ]
  },
  {
   "cell_type": "markdown",
   "metadata": {},
   "source": [
    "Ok, now it we should even be able to write a function that calculates the error at each point."
   ]
  },
  {
   "cell_type": "code",
   "execution_count": 7,
   "metadata": {},
   "outputs": [],
   "source": [
    "def error(actual, expected):\n",
    "    return actual - expected"
   ]
  },
  {
   "cell_type": "code",
   "execution_count": 8,
   "metadata": {},
   "outputs": [
    {
     "data": {
      "text/plain": [
       "16"
      ]
     },
     "execution_count": 8,
     "metadata": {},
     "output_type": "execute_result"
    }
   ],
   "source": [
    "error(120, 104)\n",
    "# 16"
   ]
  },
  {
   "cell_type": "markdown",
   "metadata": {},
   "source": [
    "And a function that allows us to pass through a list of actual data, a separate list of expected data, and return a list of errors."
   ]
  },
  {
   "cell_type": "code",
   "execution_count": 11,
   "metadata": {},
   "outputs": [],
   "source": [
    "def errors(actuals, expecteds):\n",
    "    zipped_list = zip(actuals,expecteds)\n",
    "    return [actual-expected for actual,expected in zipped_list]"
   ]
  },
  {
   "cell_type": "markdown",
   "metadata": {},
   "source": [
    "> Hint: One way to do this is to use the Python function `zip` - Google to see how."
   ]
  },
  {
   "cell_type": "code",
   "execution_count": 12,
   "metadata": {},
   "outputs": [
    {
     "data": {
      "text/plain": [
       "[16.0, 15.5, 20.0, 9.0, 12.0]"
      ]
     },
     "execution_count": 12,
     "metadata": {},
     "output_type": "execute_result"
    }
   ],
   "source": [
    "calculated_errors = errors(amounts, predicted_amounts)\n",
    "calculated_errors\n",
    "# [16.0, 15.5, 20.0, 9.0, 12.0]"
   ]
  },
  {
   "cell_type": "markdown",
   "metadata": {},
   "source": [
    "Now let's add our errors to our traces above."
   ]
  },
  {
   "cell_type": "markdown",
   "metadata": {},
   "source": [
    "> Press shift enter below.  If you're curious as to how `error_line_traces` works, inspect the function in the `error.py` file."
   ]
  },
  {
   "cell_type": "code",
   "execution_count": 13,
   "metadata": {},
   "outputs": [
    {
     "data": {
      "application/vnd.plotly.v1+json": {
       "config": {
        "linkText": "Export to plot.ly",
        "plotlyServerURL": "https://plot.ly",
        "showLink": false
       },
       "data": [
        {
         "mode": "markers",
         "name": "actual",
         "text": [],
         "type": "scatter",
         "uid": "286f215b-bcea-4e5f-b554-c86d4db1eddb",
         "x": [
          80,
          65,
          50,
          70,
          60
         ],
         "y": [
          120,
          100,
          85,
          100,
          90
         ]
        },
        {
         "mode": "lines",
         "name": "expected",
         "text": [],
         "type": "scatter",
         "uid": "c374959b-2dee-4f28-8adb-65922734b160",
         "x": [
          80,
          65,
          50,
          70,
          60
         ],
         "y": [
          104,
          84.5,
          65,
          91,
          78
         ]
        },
        {
         "hoverinfo": "none",
         "marker": {
          "color": "red"
         },
         "mode": "lines",
         "name": "error at 80",
         "text": [
          "16.0"
         ],
         "textposition": "top right",
         "type": "scatter",
         "uid": "b12815de-04c6-4a91-b5fe-90bd2a801a64",
         "x": [
          80,
          80
         ],
         "y": [
          104,
          120
         ]
        },
        {
         "hoverinfo": "none",
         "marker": {
          "color": "red"
         },
         "mode": "lines",
         "name": "error at 65",
         "text": [
          "15.5"
         ],
         "textposition": "top right",
         "type": "scatter",
         "uid": "609885da-4cc6-4048-894c-6869daf7b50d",
         "x": [
          65,
          65
         ],
         "y": [
          84.5,
          100
         ]
        },
        {
         "hoverinfo": "none",
         "marker": {
          "color": "red"
         },
         "mode": "lines",
         "name": "error at 50",
         "text": [
          "20.0"
         ],
         "textposition": "top right",
         "type": "scatter",
         "uid": "df6b58fe-fa72-415d-9d4a-c888117c9bb7",
         "x": [
          50,
          50
         ],
         "y": [
          65,
          85
         ]
        },
        {
         "hoverinfo": "none",
         "marker": {
          "color": "red"
         },
         "mode": "lines",
         "name": "error at 70",
         "text": [
          "9.0"
         ],
         "textposition": "top right",
         "type": "scatter",
         "uid": "40c651e8-1f38-4ad1-8e8c-84701a5e3ffb",
         "x": [
          70,
          70
         ],
         "y": [
          91,
          100
         ]
        },
        {
         "hoverinfo": "none",
         "marker": {
          "color": "red"
         },
         "mode": "lines",
         "name": "error at 60",
         "text": [
          "12.0"
         ],
         "textposition": "top right",
         "type": "scatter",
         "uid": "a93c69d1-c568-416c-aca6-f9e6519a549f",
         "x": [
          60,
          60
         ],
         "y": [
          78,
          90
         ]
        }
       ],
       "layout": {
        "xaxis": {
         "title": {
          "text": "temperature"
         }
        },
        "yaxis": {
         "title": {
          "text": "customers"
         }
        }
       }
      },
      "text/html": [
       "<div id=\"1abc1c62-39f1-4df2-a18a-4e1944c79568\" style=\"height: 525px; width: 100%;\" class=\"plotly-graph-div\"></div><script type=\"text/javascript\">require([\"plotly\"], function(Plotly) { window.PLOTLYENV=window.PLOTLYENV || {};window.PLOTLYENV.BASE_URL=\"https://plot.ly\";\n",
       "if (document.getElementById(\"1abc1c62-39f1-4df2-a18a-4e1944c79568\")) {\n",
       "    Plotly.newPlot(\"1abc1c62-39f1-4df2-a18a-4e1944c79568\", [{\"mode\": \"markers\", \"name\": \"actual\", \"text\": [], \"x\": [80, 65, 50, 70, 60], \"y\": [120, 100, 85, 100, 90], \"type\": \"scatter\", \"uid\": \"3752488b-fecb-40d2-9dfc-638d602d80d0\"}, {\"mode\": \"lines\", \"name\": \"expected\", \"text\": [], \"x\": [80, 65, 50, 70, 60], \"y\": [104.0, 84.5, 65.0, 91.0, 78.0], \"type\": \"scatter\", \"uid\": \"9fff5ad2-cdde-411e-896a-c7a6afb67951\"}, {\"hoverinfo\": \"none\", \"marker\": {\"color\": \"red\"}, \"mode\": \"lines\", \"name\": \"error at 80\", \"text\": [\"16.0\"], \"textposition\": \"top right\", \"x\": [80, 80], \"y\": [104.0, 120], \"type\": \"scatter\", \"uid\": \"32713eba-3788-40ac-81b5-93f1fc98a689\"}, {\"hoverinfo\": \"none\", \"marker\": {\"color\": \"red\"}, \"mode\": \"lines\", \"name\": \"error at 65\", \"text\": [\"15.5\"], \"textposition\": \"top right\", \"x\": [65, 65], \"y\": [84.5, 100], \"type\": \"scatter\", \"uid\": \"fb89694a-00b1-4e5f-9b2a-8953eec8e7bc\"}, {\"hoverinfo\": \"none\", \"marker\": {\"color\": \"red\"}, \"mode\": \"lines\", \"name\": \"error at 50\", \"text\": [\"20.0\"], \"textposition\": \"top right\", \"x\": [50, 50], \"y\": [65.0, 85], \"type\": \"scatter\", \"uid\": \"9e22cb5c-351b-4bcc-950c-5867d8988b27\"}, {\"hoverinfo\": \"none\", \"marker\": {\"color\": \"red\"}, \"mode\": \"lines\", \"name\": \"error at 70\", \"text\": [\"9.0\"], \"textposition\": \"top right\", \"x\": [70, 70], \"y\": [91.0, 100], \"type\": \"scatter\", \"uid\": \"9e2fb550-1abd-4139-a9b4-7fa1ff0d0d55\"}, {\"hoverinfo\": \"none\", \"marker\": {\"color\": \"red\"}, \"mode\": \"lines\", \"name\": \"error at 60\", \"text\": [\"12.0\"], \"textposition\": \"top right\", \"x\": [60, 60], \"y\": [78.0, 90], \"type\": \"scatter\", \"uid\": \"7ee0cd63-5bbb-4437-9e55-edba820e163f\"}], {\"xaxis\": {\"title\": {\"text\": \"temperature\"}}, \"yaxis\": {\"title\": {\"text\": \"customers\"}}}, {\"showLink\": false, \"linkText\": \"Export to plot.ly\", \"plotlyServerURL\": \"https://plot.ly\"}); \n",
       "}\n",
       "});</script><script type=\"text/javascript\">window.addEventListener(\"resize\", function(){if (document.getElementById(\"1abc1c62-39f1-4df2-a18a-4e1944c79568\")) {window._Plotly.Plots.resize(document.getElementById(\"1abc1c62-39f1-4df2-a18a-4e1944c79568\"));};})</script>"
      ],
      "text/vnd.plotly.v1+html": [
       "<div id=\"1abc1c62-39f1-4df2-a18a-4e1944c79568\" style=\"height: 525px; width: 100%;\" class=\"plotly-graph-div\"></div><script type=\"text/javascript\">require([\"plotly\"], function(Plotly) { window.PLOTLYENV=window.PLOTLYENV || {};window.PLOTLYENV.BASE_URL=\"https://plot.ly\";\n",
       "if (document.getElementById(\"1abc1c62-39f1-4df2-a18a-4e1944c79568\")) {\n",
       "    Plotly.newPlot(\"1abc1c62-39f1-4df2-a18a-4e1944c79568\", [{\"mode\": \"markers\", \"name\": \"actual\", \"text\": [], \"x\": [80, 65, 50, 70, 60], \"y\": [120, 100, 85, 100, 90], \"type\": \"scatter\", \"uid\": \"3752488b-fecb-40d2-9dfc-638d602d80d0\"}, {\"mode\": \"lines\", \"name\": \"expected\", \"text\": [], \"x\": [80, 65, 50, 70, 60], \"y\": [104.0, 84.5, 65.0, 91.0, 78.0], \"type\": \"scatter\", \"uid\": \"9fff5ad2-cdde-411e-896a-c7a6afb67951\"}, {\"hoverinfo\": \"none\", \"marker\": {\"color\": \"red\"}, \"mode\": \"lines\", \"name\": \"error at 80\", \"text\": [\"16.0\"], \"textposition\": \"top right\", \"x\": [80, 80], \"y\": [104.0, 120], \"type\": \"scatter\", \"uid\": \"32713eba-3788-40ac-81b5-93f1fc98a689\"}, {\"hoverinfo\": \"none\", \"marker\": {\"color\": \"red\"}, \"mode\": \"lines\", \"name\": \"error at 65\", \"text\": [\"15.5\"], \"textposition\": \"top right\", \"x\": [65, 65], \"y\": [84.5, 100], \"type\": \"scatter\", \"uid\": \"fb89694a-00b1-4e5f-9b2a-8953eec8e7bc\"}, {\"hoverinfo\": \"none\", \"marker\": {\"color\": \"red\"}, \"mode\": \"lines\", \"name\": \"error at 50\", \"text\": [\"20.0\"], \"textposition\": \"top right\", \"x\": [50, 50], \"y\": [65.0, 85], \"type\": \"scatter\", \"uid\": \"9e22cb5c-351b-4bcc-950c-5867d8988b27\"}, {\"hoverinfo\": \"none\", \"marker\": {\"color\": \"red\"}, \"mode\": \"lines\", \"name\": \"error at 70\", \"text\": [\"9.0\"], \"textposition\": \"top right\", \"x\": [70, 70], \"y\": [91.0, 100], \"type\": \"scatter\", \"uid\": \"9e2fb550-1abd-4139-a9b4-7fa1ff0d0d55\"}, {\"hoverinfo\": \"none\", \"marker\": {\"color\": \"red\"}, \"mode\": \"lines\", \"name\": \"error at 60\", \"text\": [\"12.0\"], \"textposition\": \"top right\", \"x\": [60, 60], \"y\": [78.0, 90], \"type\": \"scatter\", \"uid\": \"7ee0cd63-5bbb-4437-9e55-edba820e163f\"}], {\"xaxis\": {\"title\": {\"text\": \"temperature\"}}, \"yaxis\": {\"title\": {\"text\": \"customers\"}}}, {\"showLink\": false, \"linkText\": \"Export to plot.ly\", \"plotlyServerURL\": \"https://plot.ly\"}); \n",
       "}\n",
       "});</script><script type=\"text/javascript\">window.addEventListener(\"resize\", function(){if (document.getElementById(\"1abc1c62-39f1-4df2-a18a-4e1944c79568\")) {window._Plotly.Plots.resize(document.getElementById(\"1abc1c62-39f1-4df2-a18a-4e1944c79568\"));};})</script>"
      ]
     },
     "metadata": {},
     "output_type": "display_data"
    }
   ],
   "source": [
    "from error import error_line_traces\n",
    "error_traces = error_line_traces(temperatures, amounts, calculated_errors)\n",
    "plot([data_trace, model_trace, *error_traces], layout = layout)"
   ]
  },
  {
   "cell_type": "markdown",
   "metadata": {},
   "source": [
    "Now let's calculate the `total_error`.  Use the errors function to create this."
   ]
  },
  {
   "cell_type": "code",
   "execution_count": 16,
   "metadata": {},
   "outputs": [],
   "source": [
    "def total_error(amounts, predicted_amounts):\n",
    "    return sum(errors(amounts,predicted_amounts))"
   ]
  },
  {
   "cell_type": "code",
   "execution_count": 17,
   "metadata": {},
   "outputs": [
    {
     "data": {
      "text/plain": [
       "72.5"
      ]
     },
     "execution_count": 17,
     "metadata": {},
     "output_type": "execute_result"
    }
   ],
   "source": [
    "total_error(amounts, predicted_amounts)\n",
    "# 72.5"
   ]
  },
  {
   "cell_type": "markdown",
   "metadata": {},
   "source": [
    "## Moving to Sum of Squared Error"
   ]
  },
  {
   "cell_type": "markdown",
   "metadata": {},
   "source": [
    "Now our `total_error` metric happens to work fine with the data and model that we have above.  However, if we change our model, we'll see that our positive and negative errors can start to cancel each other out, which is not what we want.\n",
    "\n",
    "For example, leaving our data the same, we'll change our model to the following: \n",
    "\n",
    "$$ amount\\_of_\\_customers = 1.6 * temperature $$."
   ]
  },
  {
   "cell_type": "code",
   "execution_count": 18,
   "metadata": {},
   "outputs": [
    {
     "data": {
      "application/vnd.plotly.v1+json": {
       "config": {
        "linkText": "Export to plot.ly",
        "plotlyServerURL": "https://plot.ly",
        "showLink": false
       },
       "data": [
        {
         "mode": "markers",
         "name": "actual",
         "text": [],
         "type": "scatter",
         "uid": "44b8a94b-324d-410f-91df-c5396367707c",
         "x": [
          80,
          65,
          50,
          70,
          60
         ],
         "y": [
          120,
          100,
          85,
          100,
          90
         ]
        },
        {
         "mode": "lines",
         "name": "expected",
         "text": [],
         "type": "scatter",
         "uid": "fecfceb9-6e82-4370-8d81-3dbea017e502",
         "x": [
          80,
          65,
          50,
          70,
          60
         ],
         "y": [
          128,
          104,
          80,
          112,
          96
         ]
        }
       ],
       "layout": {
        "xaxis": {
         "title": {
          "text": "temperature"
         }
        },
        "yaxis": {
         "title": {
          "text": "customers"
         }
        }
       }
      },
      "text/html": [
       "<div id=\"a7c303d8-176a-4770-a5cd-fcd7eb66962d\" style=\"height: 525px; width: 100%;\" class=\"plotly-graph-div\"></div><script type=\"text/javascript\">require([\"plotly\"], function(Plotly) { window.PLOTLYENV=window.PLOTLYENV || {};window.PLOTLYENV.BASE_URL=\"https://plot.ly\";\n",
       "if (document.getElementById(\"a7c303d8-176a-4770-a5cd-fcd7eb66962d\")) {\n",
       "    Plotly.newPlot(\"a7c303d8-176a-4770-a5cd-fcd7eb66962d\", [{\"mode\": \"markers\", \"name\": \"actual\", \"text\": [], \"x\": [80, 65, 50, 70, 60], \"y\": [120, 100, 85, 100, 90], \"type\": \"scatter\", \"uid\": \"f4a901ee-8abd-4807-a486-cddb710bc726\"}, {\"mode\": \"lines\", \"name\": \"expected\", \"text\": [], \"x\": [80, 65, 50, 70, 60], \"y\": [128.0, 104.0, 80.0, 112.0, 96.0], \"type\": \"scatter\", \"uid\": \"075b294f-9369-4d9b-9a3a-9f357e5954a3\"}], {\"xaxis\": {\"title\": {\"text\": \"temperature\"}}, \"yaxis\": {\"title\": {\"text\": \"customers\"}}}, {\"showLink\": false, \"linkText\": \"Export to plot.ly\", \"plotlyServerURL\": \"https://plot.ly\"}); \n",
       "}\n",
       "});</script><script type=\"text/javascript\">window.addEventListener(\"resize\", function(){if (document.getElementById(\"a7c303d8-176a-4770-a5cd-fcd7eb66962d\")) {window._Plotly.Plots.resize(document.getElementById(\"a7c303d8-176a-4770-a5cd-fcd7eb66962d\"));};})</script>"
      ],
      "text/vnd.plotly.v1+html": [
       "<div id=\"a7c303d8-176a-4770-a5cd-fcd7eb66962d\" style=\"height: 525px; width: 100%;\" class=\"plotly-graph-div\"></div><script type=\"text/javascript\">require([\"plotly\"], function(Plotly) { window.PLOTLYENV=window.PLOTLYENV || {};window.PLOTLYENV.BASE_URL=\"https://plot.ly\";\n",
       "if (document.getElementById(\"a7c303d8-176a-4770-a5cd-fcd7eb66962d\")) {\n",
       "    Plotly.newPlot(\"a7c303d8-176a-4770-a5cd-fcd7eb66962d\", [{\"mode\": \"markers\", \"name\": \"actual\", \"text\": [], \"x\": [80, 65, 50, 70, 60], \"y\": [120, 100, 85, 100, 90], \"type\": \"scatter\", \"uid\": \"f4a901ee-8abd-4807-a486-cddb710bc726\"}, {\"mode\": \"lines\", \"name\": \"expected\", \"text\": [], \"x\": [80, 65, 50, 70, 60], \"y\": [128.0, 104.0, 80.0, 112.0, 96.0], \"type\": \"scatter\", \"uid\": \"075b294f-9369-4d9b-9a3a-9f357e5954a3\"}], {\"xaxis\": {\"title\": {\"text\": \"temperature\"}}, \"yaxis\": {\"title\": {\"text\": \"customers\"}}}, {\"showLink\": false, \"linkText\": \"Export to plot.ly\", \"plotlyServerURL\": \"https://plot.ly\"}); \n",
       "}\n",
       "});</script><script type=\"text/javascript\">window.addEventListener(\"resize\", function(){if (document.getElementById(\"a7c303d8-176a-4770-a5cd-fcd7eb66962d\")) {window._Plotly.Plots.resize(document.getElementById(\"a7c303d8-176a-4770-a5cd-fcd7eb66962d\"));};})</script>"
      ]
     },
     "metadata": {},
     "output_type": "display_data"
    }
   ],
   "source": [
    "updated_predicted_amounts = list(map(lambda temperature: 1.6*temperature,temperatures))\n",
    "updated_model_trace = trace_values(temperatures, updated_predicted_amounts, name = 'expected', mode = 'lines')\n",
    "\n",
    "plot([data_trace, updated_model_trace], layout = layout)"
   ]
  },
  {
   "cell_type": "markdown",
   "metadata": {},
   "source": [
    " In the graph above, we can see that the error at our first temperature is 85 - 80 = 5, and the second error is 90 - 96 = -6, so adding up just these two errors gives us -1, which is not what we should get.\n",
    " \n",
    "To fix this we decide to use the residual sum of squares (RSS) formula.  Write a function that calculates the RSS for a list of actual data and a list of expected data.  If you forget the RSS formula, you can [find it on Wikipedia](https://en.wikipedia.org/wiki/Residual_sum_of_squares)."
   ]
  },
  {
   "cell_type": "code",
   "execution_count": 19,
   "metadata": {},
   "outputs": [],
   "source": [
    "def rss(actuals, expecteds):\n",
    "    squared_errors = [error**2 for error in errors(actuals,expecteds)]\n",
    "    return sum(squared_errors)"
   ]
  },
  {
   "cell_type": "code",
   "execution_count": 20,
   "metadata": {},
   "outputs": [
    {
     "data": {
      "text/plain": [
       "1121.25"
      ]
     },
     "execution_count": 20,
     "metadata": {},
     "output_type": "execute_result"
    }
   ],
   "source": [
    "rss(amounts, predicted_amounts)\n",
    "# 1121.25"
   ]
  },
  {
   "cell_type": "markdown",
   "metadata": {},
   "source": [
    "That was the RSS of our first model.  If we look at the RSS of our second model, we can see that our second model is much closer to our actual data."
   ]
  },
  {
   "cell_type": "code",
   "execution_count": 21,
   "metadata": {},
   "outputs": [
    {
     "data": {
      "text/plain": [
       "285.0"
      ]
     },
     "execution_count": 21,
     "metadata": {},
     "output_type": "execute_result"
    }
   ],
   "source": [
    "rss(amounts, updated_predicted_amounts)"
   ]
  }
 ],
 "metadata": {
  "kernelspec": {
   "display_name": "Python 3",
   "language": "python",
   "name": "python3"
  },
  "language_info": {
   "codemirror_mode": {
    "name": "ipython",
    "version": 3
   },
   "file_extension": ".py",
   "mimetype": "text/x-python",
   "name": "python",
   "nbconvert_exporter": "python",
   "pygments_lexer": "ipython3",
   "version": "3.7.1"
  }
 },
 "nbformat": 4,
 "nbformat_minor": 2
}
