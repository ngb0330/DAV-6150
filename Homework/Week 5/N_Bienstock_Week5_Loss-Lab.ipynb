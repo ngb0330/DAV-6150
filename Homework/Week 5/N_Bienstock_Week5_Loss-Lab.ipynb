{
 "cells": [
  {
   "cell_type": "markdown",
   "metadata": {},
   "source": [
    "# Loss Lab"
   ]
  },
  {
   "cell_type": "markdown",
   "metadata": {},
   "source": [
    "### Introduction"
   ]
  },
  {
   "cell_type": "markdown",
   "metadata": {},
   "source": [
    "In this lesson we'll build out the error component to our simple linear regression model.  To do this, we need to know the linear regression model's coefficient and y-intercept.  We'll also need a list of data to predict on and compare the predictions of the model against.  We'll write our methods and encapsulate the related data using object orientation."
   ]
  },
  {
   "cell_type": "markdown",
   "metadata": {},
   "source": [
    "### Loading our hypothesis class"
   ]
  },
  {
   "cell_type": "markdown",
   "metadata": {},
   "source": [
    "First, copy and paste the hypothesis class from the previous lab."
   ]
  },
  {
   "cell_type": "code",
   "execution_count": 1,
   "metadata": {},
   "outputs": [],
   "source": [
    "class Hypothesis:\n",
    "    def __init__(self, coef, intercept, x_values):\n",
    "        self.coef_ = coef\n",
    "        self.intercept_ = intercept\n",
    "        self.x_values = x_values\n",
    "    \n",
    "    def predict(self):\n",
    "        predicted = [self.coef_ * x_value + self.intercept_ for x_value in self.x_values]\n",
    "        return predicted"
   ]
  },
  {
   "cell_type": "code",
   "execution_count": 2,
   "metadata": {},
   "outputs": [
    {
     "data": {
      "text/plain": [
       "{'coef_': 0.39,\n",
       " 'intercept_': 153,\n",
       " 'x_values': array([ 800, 1500, 2000, 3500, 4000])}"
      ]
     },
     "execution_count": 2,
     "metadata": {},
     "output_type": "execute_result"
    }
   ],
   "source": [
    "import numpy as np\n",
    "coef = 0.39\n",
    "intercept = 153\n",
    "inputs = np.array([800, 1500, 2000, 3500, 4000])\n",
    "\n",
    "\n",
    "hypothesis = Hypothesis(coef, intercept, inputs)\n",
    "hypothesis.__dict__\n",
    "# {'coef_': 0.39, 'intercept_': 153, 'x_values': [800, 1500, 2000, 3500, 4000]}"
   ]
  },
  {
   "cell_type": "code",
   "execution_count": 3,
   "metadata": {},
   "outputs": [
    {
     "data": {
      "text/plain": [
       "[465.0, 738.0, 933.0, 1518.0, 1713.0]"
      ]
     },
     "execution_count": 3,
     "metadata": {},
     "output_type": "execute_result"
    }
   ],
   "source": [
    "hypothesis.predict()\n",
    "# [465.0, 738.0, 933.0, 1518.0, 1713.0]"
   ]
  },
  {
   "cell_type": "markdown",
   "metadata": {},
   "source": [
    "Now this `Hypothesis` class will still be the sole class in charge of making predictions.  Now we'll just also add our `Loss` class, which will be in charge of calculating errors."
   ]
  },
  {
   "cell_type": "markdown",
   "metadata": {},
   "source": [
    "### Creating the Loss Class"
   ]
  },
  {
   "cell_type": "code",
   "execution_count": 21,
   "metadata": {},
   "outputs": [],
   "source": [
    "class Loss():\n",
    "    def __init__(self, hypothesis, targets):\n",
    "        self.hypothesis = hypothesis\n",
    "        self.targets = targets\n",
    "    \n",
    "    def errors(self):\n",
    "        errors = self.targets - self.hypothesis.predict()\n",
    "        return errors\n",
    "    \n",
    "    def rss(self):\n",
    "        squared_errors = self.errors() ** 2\n",
    "        return sum(squared_errors)"
   ]
  },
  {
   "cell_type": "markdown",
   "metadata": {},
   "source": [
    "Think about what it takes to calculate the error at a given point.  We need to know:\n",
    "* our feature data, and \n",
    "* the hypothesis component that makes predictions.  "
   ]
  },
  {
   "cell_type": "markdown",
   "metadata": {},
   "source": [
    "Update the `Loss` class so that we can initialize it with an instance of our Hypothesis class, a vector of `target_variables`.  \n",
    "> The Hypothesis class will continue to hold all of the information related to our y-intercept, coefficient, inputs, and predictions."
   ]
  },
  {
   "cell_type": "markdown",
   "metadata": {},
   "source": [
    "So first we'll recreate an instance of a hypothesis."
   ]
  },
  {
   "cell_type": "code",
   "execution_count": 10,
   "metadata": {},
   "outputs": [],
   "source": [
    "import numpy as np\n",
    "coef = 0.39\n",
    "intercept = 153\n",
    "\n",
    "inputs = np.array([800, 1500, 2000, 3500, 4000])\n",
    "hypothesis = Hypothesis(coef, intercept, inputs)"
   ]
  },
  {
   "cell_type": "markdown",
   "metadata": {},
   "source": [
    "Then we need to initialize the Loss instance with our hypothesis instance and target variables."
   ]
  },
  {
   "cell_type": "code",
   "execution_count": 11,
   "metadata": {},
   "outputs": [],
   "source": [
    "targets = np.array([330, 780, 1130, 1310, 1780])"
   ]
  },
  {
   "cell_type": "code",
   "execution_count": 23,
   "metadata": {},
   "outputs": [
    {
     "data": {
      "text/plain": [
       "{'hypothesis': <__main__.Hypothesis at 0x1085233c8>,\n",
       " 'targets': array([ 330,  780, 1130, 1310, 1780])}"
      ]
     },
     "execution_count": 23,
     "metadata": {},
     "output_type": "execute_result"
    }
   ],
   "source": [
    "loss = Loss(hypothesis, targets)\n",
    "loss.__dict__\n",
    "\n",
    "# {'hypothesis': <__main__.Hypothesis at 0x10cd59400>,\n",
    "#  'targets': array([ 330,  780, 1130, 1310, 1780])}"
   ]
  },
  {
   "cell_type": "markdown",
   "metadata": {},
   "source": [
    "Now with these three pieces of information, our Loss instance should have the information it needs to calculate errors."
   ]
  },
  {
   "cell_type": "markdown",
   "metadata": {},
   "source": [
    "### Calculating Errors"
   ]
  },
  {
   "cell_type": "markdown",
   "metadata": {},
   "source": [
    "Write a method called errors, that returns a list of errors for each data point that we passed through."
   ]
  },
  {
   "cell_type": "code",
   "execution_count": 24,
   "metadata": {},
   "outputs": [
    {
     "data": {
      "text/plain": [
       "array([-135.,   42.,  197., -208.,   67.])"
      ]
     },
     "execution_count": 24,
     "metadata": {},
     "output_type": "execute_result"
    }
   ],
   "source": [
    "loss.errors()\n",
    "# [-135.0, 42.0, 197.0, -208.0, 67.0]"
   ]
  },
  {
   "cell_type": "markdown",
   "metadata": {},
   "source": [
    "Then write a method called `squared_errors` that squares each one of the elements returned from our `errors` method."
   ]
  },
  {
   "cell_type": "markdown",
   "metadata": {},
   "source": [
    "> For this method, break down the steps that are involved in matrix vector multiplication and see how you can use it to build the `rss` method."
   ]
  },
  {
   "cell_type": "code",
   "execution_count": 25,
   "metadata": {},
   "outputs": [
    {
     "data": {
      "text/plain": [
       "106551.0"
      ]
     },
     "execution_count": 25,
     "metadata": {},
     "output_type": "execute_result"
    }
   ],
   "source": [
    "loss.rss()\n",
    "# 106551.0"
   ]
  },
  {
   "cell_type": "markdown",
   "metadata": {},
   "source": [
    "### Summary"
   ]
  },
  {
   "cell_type": "markdown",
   "metadata": {},
   "source": [
    "In this lesson, we built out the error component to our simple linear regression model.  To do this, we  created an instance of the Hypothesis class, which was responsible for the parameters of our linear regression model as well making predictions from these parameters and our input data.  We added a Loss class, which calculated errors from our hypothesis instance for a given data set."
   ]
  }
 ],
 "metadata": {
  "kernelspec": {
   "display_name": "Python 3",
   "language": "python",
   "name": "python3"
  },
  "language_info": {
   "codemirror_mode": {
    "name": "ipython",
    "version": 3
   },
   "file_extension": ".py",
   "mimetype": "text/x-python",
   "name": "python",
   "nbconvert_exporter": "python",
   "pygments_lexer": "ipython3",
   "version": "3.7.1"
  }
 },
 "nbformat": 4,
 "nbformat_minor": 2
}
