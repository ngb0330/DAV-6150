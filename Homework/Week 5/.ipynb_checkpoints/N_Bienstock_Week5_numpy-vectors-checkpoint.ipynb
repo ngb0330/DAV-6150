{
 "cells": [
  {
   "cell_type": "markdown",
   "metadata": {},
   "source": [
    "### Introduction"
   ]
  },
  {
   "cell_type": "code",
   "execution_count": 1,
   "metadata": {},
   "outputs": [],
   "source": [
    "import requests\n",
    "response = requests.get('https://data.texas.gov/resource/naix-2893.json?location_address=2411%20GLENNA%20GOODACRE%20BLVD')\n",
    "results = response.json()"
   ]
  },
  {
   "cell_type": "code",
   "execution_count": 3,
   "metadata": {},
   "outputs": [],
   "source": [
    "import pandas as pd\n",
    "results_df = pd.DataFrame(results)"
   ]
  },
  {
   "cell_type": "code",
   "execution_count": 4,
   "metadata": {},
   "outputs": [],
   "source": [
    "top_three = results_df[0:3]"
   ]
  },
  {
   "cell_type": "code",
   "execution_count": 5,
   "metadata": {},
   "outputs": [
    {
     "data": {
      "text/plain": [
       "Index(['beer_receipts', 'cover_charge_receipts',\n",
       "       'inside_outside_city_limits_code_y_n', 'liquor_receipts',\n",
       "       'location_address', 'location_city', 'location_county', 'location_name',\n",
       "       'location_number', 'location_state', 'location_zip',\n",
       "       'obligation_end_date_yyyymmdd', 'responsibility_begin_date_yyyymmdd',\n",
       "       'tabc_permit_number', 'taxpayer_address', 'taxpayer_city',\n",
       "       'taxpayer_county', 'taxpayer_name', 'taxpayer_number', 'taxpayer_state',\n",
       "       'taxpayer_zip', 'total_receipts', 'wine_receipts'],\n",
       "      dtype='object')"
      ]
     },
     "execution_count": 5,
     "metadata": {},
     "output_type": "execute_result"
    }
   ],
   "source": [
    "top_three.columns"
   ]
  },
  {
   "cell_type": "code",
   "execution_count": 6,
   "metadata": {},
   "outputs": [],
   "source": [
    "beer_and_liquor_df = results_df[['beer_receipts', 'liquor_receipts', 'total_receipts']].apply(pd.to_numeric)"
   ]
  },
  {
   "cell_type": "code",
   "execution_count": 7,
   "metadata": {},
   "outputs": [],
   "source": [
    "beer_receipts = beer_and_liquor_df['beer_receipts'].to_numpy()"
   ]
  },
  {
   "cell_type": "code",
   "execution_count": 8,
   "metadata": {},
   "outputs": [
    {
     "data": {
      "text/plain": [
       "array([114, 115, 158, 208, 378, 409, 153, 346, 504, 162, 187, 515, 442,\n",
       "       103, 429, 278, 158,   0,   0, 538, 297, 590, 438, 398, 115,   0,\n",
       "       129, 535, 208, 313, 407,  93, 498, 394, 308, 615, 354, 381, 175,\n",
       "       251, 160, 378, 517, 337, 460, 394, 196, 211, 323, 148, 149,  88,\n",
       "       204, 777, 508, 128, 244, 251, 266, 381, 115, 147, 165, 434, 516,\n",
       "       256, 396, 218, 315, 235, 160, 149, 187, 559, 410, 292, 650,  86,\n",
       "       530, 142, 194, 187, 205, 527, 143, 584,  92, 249, 267, 171, 472,\n",
       "       385, 643, 455, 185,  97, 367, 342, 497, 527, 310, 387])"
      ]
     },
     "execution_count": 8,
     "metadata": {},
     "output_type": "execute_result"
    }
   ],
   "source": [
    "beer_receipts"
   ]
  },
  {
   "cell_type": "code",
   "execution_count": 9,
   "metadata": {},
   "outputs": [],
   "source": [
    "liquor_receipts = beer_and_liquor_df['liquor_receipts'].to_numpy()"
   ]
  },
  {
   "cell_type": "code",
   "execution_count": 10,
   "metadata": {},
   "outputs": [
    {
     "data": {
      "text/plain": [
       "array([ 76, 137, 116, 147, 631, 560, 116,  81, 261, 147, 249, 615, 787,\n",
       "        69, 682,  27,  78,   0,   0, 327, 334, 815, 409, 445,  31,   0,\n",
       "       183, 302, 204, 656, 761,  59, 937, 185, 144, 315, 480, 602, 175,\n",
       "       297, 163, 357, 935, 167, 189, 662, 241,  78, 189, 144, 114, 121,\n",
       "        95, 514, 248, 118, 178, 161, 349, 486,  76, 128, 329, 252, 319,\n",
       "       213, 488, 168, 595, 251, 139, 159, 161, 275, 319, 334, 340, 133,\n",
       "       288,  75,  76, 172, 380, 252, 111, 342, 151, 280, 166, 149, 167,\n",
       "       482, 302, 185, 185,  78, 383, 531, 180, 234, 144, 149])"
      ]
     },
     "execution_count": 10,
     "metadata": {},
     "output_type": "execute_result"
    }
   ],
   "source": [
    "liquor_receipts"
   ]
  },
  {
   "cell_type": "code",
   "execution_count": 11,
   "metadata": {},
   "outputs": [],
   "source": [
    "total_reciepts = beer_and_liquor_df['total_receipts'].to_numpy()"
   ]
  },
  {
   "cell_type": "markdown",
   "metadata": {},
   "source": [
    "### Working with Vectors in Numpy"
   ]
  },
  {
   "cell_type": "markdown",
   "metadata": {},
   "source": [
    "First, let's use our knowledge of numpy and vectors to select specific data."
   ]
  },
  {
   "cell_type": "markdown",
   "metadata": {},
   "source": [
    "Start by selecting the first three entries for liquor receipts."
   ]
  },
  {
   "cell_type": "code",
   "execution_count": 13,
   "metadata": {},
   "outputs": [
    {
     "data": {
      "text/plain": [
       "array([ 76, 137, 116])"
      ]
     },
     "execution_count": 13,
     "metadata": {},
     "output_type": "execute_result"
    }
   ],
   "source": [
    "selected_liquor = liquor_receipts[0:3] \n",
    "selected_liquor\n",
    "# array([ 76, 137, 116])"
   ]
  },
  {
   "cell_type": "markdown",
   "metadata": {},
   "source": [
    "Select all but the first three entries for beer reciepts."
   ]
  },
  {
   "cell_type": "code",
   "execution_count": 14,
   "metadata": {},
   "outputs": [
    {
     "data": {
      "text/plain": [
       "208"
      ]
     },
     "execution_count": 14,
     "metadata": {},
     "output_type": "execute_result"
    }
   ],
   "source": [
    "selected_beer = beer_receipts[3:]\n",
    "selected_beer[0]\n",
    "# 208"
   ]
  },
  {
   "cell_type": "markdown",
   "metadata": {},
   "source": [
    "### Adding Vectors"
   ]
  },
  {
   "cell_type": "markdown",
   "metadata": {},
   "source": [
    "We would like to add up the beer and liquor receipts for this chipotle location.  "
   ]
  },
  {
   "cell_type": "markdown",
   "metadata": {},
   "source": [
    "Calculated the combined receipts for the first three entries of liquor and beer."
   ]
  },
  {
   "cell_type": "code",
   "execution_count": 16,
   "metadata": {},
   "outputs": [
    {
     "data": {
      "text/plain": [
       "array([190, 252, 274])"
      ]
     },
     "execution_count": 16,
     "metadata": {},
     "output_type": "execute_result"
    }
   ],
   "source": [
    "combined_receipts = liquor_receipts[0:3] + beer_receipts[0:3]\n",
    "combined_receipts\n",
    "# array([190, 252, 274])"
   ]
  },
  {
   "cell_type": "markdown",
   "metadata": {},
   "source": [
    "We can confirm that it this combination also equals the total receipts for the first three entries."
   ]
  },
  {
   "cell_type": "code",
   "execution_count": 17,
   "metadata": {},
   "outputs": [
    {
     "data": {
      "text/plain": [
       "array([190, 252, 274])"
      ]
     },
     "execution_count": 17,
     "metadata": {},
     "output_type": "execute_result"
    }
   ],
   "source": [
    "total_reciepts[:3]"
   ]
  },
  {
   "cell_type": "markdown",
   "metadata": {},
   "source": [
    "Finally, use vector operations to calculate the difference between beer receipts and liquor receipts each month."
   ]
  },
  {
   "cell_type": "code",
   "execution_count": 18,
   "metadata": {},
   "outputs": [
    {
     "data": {
      "text/plain": [
       "array([  38,  -22,   42,   61, -253, -151,   37,  265,  243,   15,  -62,\n",
       "       -100, -345,   34, -253,  251,   80,    0,    0,  211,  -37, -225,\n",
       "         29,  -47,   84,    0,  -54,  233,    4, -343, -354,   34, -439,\n",
       "        209,  164,  300, -126, -221,    0,  -46,   -3,   21, -418,  170,\n",
       "        271, -268,  -45,  133,  134,    4,   35,  -33,  109,  263,  260,\n",
       "         10,   66,   90,  -83, -105,   39,   19, -164,  182,  197,   43,\n",
       "        -92,   50, -280,  -16,   21,  -10,   26,  284,   91,  -42,  310,\n",
       "        -47,  242,   67,  118,   15, -175,  275,   32,  242,  -59,  -31,\n",
       "        101,   22,  305,  -97,  341,  270,    0,   19,  -16, -189,  317,\n",
       "        293,  166,  238])"
      ]
     },
     "execution_count": 18,
     "metadata": {},
     "output_type": "execute_result"
    }
   ],
   "source": [
    "difference_of_beer_and_liquor = beer_receipts - liquor_receipts\n",
    "difference_of_beer_and_liquor\n",
    "# array([  38,  -22,   42,   61, -253, -151,   37,  265,  243,   15,  -62,\n",
    "#        -100, -345,   34, -253,  251,   80,    0,    0,  211,  -37, -225,\n",
    "#          29,  -47,   84,    0,  -54,  233,    4, -343, -354,   34, -439,\n",
    "#         209,  164,  300, -126, -221,    0,  -46,   -3,   21, -418,  170,\n",
    "#         271, -268,  -45,  133,  134,    4,   35,  -33,  109,  263,  260,\n",
    "#          10,   66,   90,  -83, -105,   39,   19, -164,  182,  197,   43,\n",
    "#         -92,   50, -280,  -16,   21,  -10,   26,  284,   91,  -42,  310,\n",
    "#         -47,  242,   67,  118,   15, -175,  275,   32,  242,  -59,  -31,\n",
    "#         101,   22,  305,  -97,  341,  270,    0,   19,  -16, -189,  317,\n",
    "#         293,  166,  238])"
   ]
  },
  {
   "cell_type": "markdown",
   "metadata": {},
   "source": [
    "Display the three amounts where beer sales most outpace liquor sales."
   ]
  },
  {
   "cell_type": "code",
   "execution_count": 24,
   "metadata": {},
   "outputs": [
    {
     "data": {
      "text/plain": [
       "array([341, 317, 310])"
      ]
     },
     "execution_count": 24,
     "metadata": {},
     "output_type": "execute_result"
    }
   ],
   "source": [
    "import numpy as np\n",
    "beer_more_than_liquor = -np.sort(-difference_of_beer_and_liquor)[0:3]\n",
    "beer_more_than_liquor\n",
    "# array([341, 317, 310])"
   ]
  },
  {
   "cell_type": "code",
   "execution_count": 21,
   "metadata": {},
   "outputs": [
    {
     "data": {
      "text/plain": [
       "array([-439, -418, -354])"
      ]
     },
     "execution_count": 21,
     "metadata": {},
     "output_type": "execute_result"
    }
   ],
   "source": [
    "liquor_more_than_beer = np.sort(difference_of_beer_and_liquor)[0:3]\n",
    "liquor_more_than_beer\n",
    "# array([-439, -418, -354])"
   ]
  },
  {
   "cell_type": "markdown",
   "metadata": {},
   "source": [
    "### Summary"
   ]
  },
  {
   "cell_type": "markdown",
   "metadata": {},
   "source": [
    "Great job!  In this lesson we practiced selecting entries from vectors, and adding vectors."
   ]
  }
 ],
 "metadata": {
  "kernelspec": {
   "display_name": "Python 3",
   "language": "python",
   "name": "python3"
  },
  "language_info": {
   "codemirror_mode": {
    "name": "ipython",
    "version": 3
   },
   "file_extension": ".py",
   "mimetype": "text/x-python",
   "name": "python",
   "nbconvert_exporter": "python",
   "pygments_lexer": "ipython3",
   "version": "3.7.1"
  }
 },
 "nbformat": 4,
 "nbformat_minor": 2
}
