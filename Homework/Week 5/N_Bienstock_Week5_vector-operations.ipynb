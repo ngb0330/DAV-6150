{
 "cells": [
  {
   "cell_type": "markdown",
   "metadata": {},
   "source": [
    "### Introduction"
   ]
  },
  {
   "cell_type": "code",
   "execution_count": 2,
   "metadata": {},
   "outputs": [],
   "source": [
    "import requests\n",
    "response = requests.get('https://data.texas.gov/resource/naix-2893.json?location_address=2411%20GLENNA%20GOODACRE%20BLVD')\n",
    "results = response.json()"
   ]
  },
  {
   "cell_type": "code",
   "execution_count": 3,
   "metadata": {},
   "outputs": [],
   "source": [
    "import pandas as pd\n",
    "results_df = pd.DataFrame(results)"
   ]
  },
  {
   "cell_type": "code",
   "execution_count": 4,
   "metadata": {},
   "outputs": [],
   "source": [
    "top_three = results_df[0:3]"
   ]
  },
  {
   "cell_type": "code",
   "execution_count": 5,
   "metadata": {},
   "outputs": [],
   "source": [
    "beer_and_liquor_df = results_df[['beer_receipts', 'liquor_receipts', 'total_receipts']].apply(pd.to_numeric)"
   ]
  },
  {
   "cell_type": "code",
   "execution_count": 6,
   "metadata": {},
   "outputs": [],
   "source": [
    "beer_receipts = beer_and_liquor_df['beer_receipts'].to_numpy()"
   ]
  },
  {
   "cell_type": "code",
   "execution_count": 7,
   "metadata": {},
   "outputs": [
    {
     "data": {
      "text/plain": [
       "array([114, 115, 158, 208, 378, 409, 153, 346, 504, 162, 187, 515, 442,\n",
       "       103, 429, 278, 158,   0,   0, 538, 297, 590, 438, 398, 115,   0,\n",
       "       129, 535, 208, 313, 407,  93, 498, 394, 308, 615, 354, 381, 175,\n",
       "       251, 160, 378, 517, 337, 460, 394, 196, 211, 323, 148, 149,  88,\n",
       "       204, 777, 508, 128, 244, 251, 266, 381, 115, 147, 165, 434, 516,\n",
       "       256, 396, 218, 315, 235, 160, 149, 187, 559, 410, 292, 650,  86,\n",
       "       530, 142, 194, 187, 205, 527, 143, 584,  92, 249, 267, 171, 472,\n",
       "       385, 643, 455, 185,  97, 367, 342, 497, 527, 310, 387])"
      ]
     },
     "execution_count": 7,
     "metadata": {},
     "output_type": "execute_result"
    }
   ],
   "source": [
    "beer_receipts"
   ]
  },
  {
   "cell_type": "code",
   "execution_count": 8,
   "metadata": {},
   "outputs": [],
   "source": [
    "liquor_receipts = beer_and_liquor_df['liquor_receipts'].to_numpy()"
   ]
  },
  {
   "cell_type": "code",
   "execution_count": 9,
   "metadata": {},
   "outputs": [
    {
     "data": {
      "text/plain": [
       "array([ 76, 137, 116, 147, 631, 560, 116,  81, 261, 147, 249, 615, 787,\n",
       "        69, 682,  27,  78,   0,   0, 327, 334, 815, 409, 445,  31,   0,\n",
       "       183, 302, 204, 656, 761,  59, 937, 185, 144, 315, 480, 602, 175,\n",
       "       297, 163, 357, 935, 167, 189, 662, 241,  78, 189, 144, 114, 121,\n",
       "        95, 514, 248, 118, 178, 161, 349, 486,  76, 128, 329, 252, 319,\n",
       "       213, 488, 168, 595, 251, 139, 159, 161, 275, 319, 334, 340, 133,\n",
       "       288,  75,  76, 172, 380, 252, 111, 342, 151, 280, 166, 149, 167,\n",
       "       482, 302, 185, 185,  78, 383, 531, 180, 234, 144, 149])"
      ]
     },
     "execution_count": 9,
     "metadata": {},
     "output_type": "execute_result"
    }
   ],
   "source": [
    "liquor_receipts"
   ]
  },
  {
   "cell_type": "markdown",
   "metadata": {},
   "source": [
    "### Working with Vectors in Numpy"
   ]
  },
  {
   "cell_type": "markdown",
   "metadata": {},
   "source": [
    "Let's assume that chipotle earns $.20$ in marginal profit for every dollar of liquor sold, and $.10$ of marginal profit for every dollar of beer sold."
   ]
  },
  {
   "cell_type": "markdown",
   "metadata": {},
   "source": [
    "Calculate the marginal profit for liquor for each month."
   ]
  },
  {
   "cell_type": "code",
   "execution_count": 11,
   "metadata": {},
   "outputs": [
    {
     "data": {
      "text/plain": [
       "array([ 15.2,  27.4,  23.2,  29.4, 126.2])"
      ]
     },
     "execution_count": 11,
     "metadata": {},
     "output_type": "execute_result"
    }
   ],
   "source": [
    "marginal_liquor = .2*liquor_receipts\n",
    "marginal_liquor[0:5]\n",
    "# array([ 15.2,  27.4,  23.2,  29.4, 126.2])"
   ]
  },
  {
   "cell_type": "code",
   "execution_count": 13,
   "metadata": {},
   "outputs": [
    {
     "data": {
      "text/plain": [
       "array([11.4, 11.5, 15.8, 20.8, 37.8])"
      ]
     },
     "execution_count": 13,
     "metadata": {},
     "output_type": "execute_result"
    }
   ],
   "source": [
    "marginal_beer = .1 * beer_receipts\n",
    "marginal_beer[0:5]\n",
    "# array([11.4, 11.5, 15.8, 20.8, 37.8])"
   ]
  },
  {
   "cell_type": "markdown",
   "metadata": {},
   "source": [
    "Now calculate the total marginal profit on all alcohol sales -- assume that beer and alcohol receipts are the only source of alcohol revenue."
   ]
  },
  {
   "cell_type": "code",
   "execution_count": 15,
   "metadata": {},
   "outputs": [
    {
     "data": {
      "text/plain": [
       "array([ 26.6,  38.9,  39. ,  50.2, 164. ])"
      ]
     },
     "execution_count": 15,
     "metadata": {},
     "output_type": "execute_result"
    }
   ],
   "source": [
    "total_margins = marginal_liquor + marginal_beer\n",
    "total_margins[0:5]\n",
    "# Please check your own work for this one"
   ]
  },
  {
   "cell_type": "markdown",
   "metadata": {},
   "source": [
    "Calculate the percentage of revenue that goes towards marginal profits each month."
   ]
  },
  {
   "cell_type": "code",
   "execution_count": 17,
   "metadata": {},
   "outputs": [
    {
     "name": "stderr",
     "output_type": "stream",
     "text": [
      "/anaconda3/lib/python3.7/site-packages/ipykernel_launcher.py:1: RuntimeWarning: invalid value encountered in true_divide\n",
      "  \"\"\"Entry point for launching an IPython kernel.\n"
     ]
    },
    {
     "data": {
      "text/plain": [
       "array([0.14      , 0.15436508, 0.14233577])"
      ]
     },
     "execution_count": 17,
     "metadata": {},
     "output_type": "execute_result"
    }
   ],
   "source": [
    "margin_percentage = total_margins/(liquor_receipts+beer_receipts)\n",
    "margin_percentage[0:3]\n",
    "\n",
    "# array([0.14      , 0.15436508, 0.14233577])"
   ]
  },
  {
   "cell_type": "markdown",
   "metadata": {},
   "source": [
    "If we look at the array, there are three nan entries."
   ]
  },
  {
   "cell_type": "code",
   "execution_count": 18,
   "metadata": {},
   "outputs": [
    {
     "data": {
      "text/plain": [
       "array([[17],\n",
       "       [18],\n",
       "       [25]])"
      ]
     },
     "execution_count": 18,
     "metadata": {},
     "output_type": "execute_result"
    }
   ],
   "source": [
    "import numpy as np\n",
    "np.argwhere(np.isnan(margin_percentage))\n",
    "\n",
    "# array([[17],\n",
    "#        [18],\n",
    "#        [25]])"
   ]
  },
  {
   "cell_type": "code",
   "execution_count": 19,
   "metadata": {},
   "outputs": [
    {
     "data": {
      "text/plain": [
       "(0, 0)"
      ]
     },
     "execution_count": 19,
     "metadata": {},
     "output_type": "execute_result"
    }
   ],
   "source": [
    "liquor_receipts[17],beer_receipts[17] #we don't have any receipts for those months\n"
   ]
  },
  {
   "cell_type": "code",
   "execution_count": 20,
   "metadata": {},
   "outputs": [
    {
     "data": {
      "text/plain": [
       "(0, 0)"
      ]
     },
     "execution_count": 20,
     "metadata": {},
     "output_type": "execute_result"
    }
   ],
   "source": [
    "beer_receipts[18], liquor_receipts[18]"
   ]
  },
  {
   "cell_type": "code",
   "execution_count": 22,
   "metadata": {},
   "outputs": [
    {
     "data": {
      "text/plain": [
       "(0, 0)"
      ]
     },
     "execution_count": 22,
     "metadata": {},
     "output_type": "execute_result"
    }
   ],
   "source": [
    "beer_receipts[25], liquor_receipts[25]"
   ]
  },
  {
   "cell_type": "markdown",
   "metadata": {},
   "source": [
    "Why do you think that is?  Show your reasoning in code."
   ]
  },
  {
   "cell_type": "markdown",
   "metadata": {},
   "source": [
    "### Summary"
   ]
  },
  {
   "cell_type": "markdown",
   "metadata": {},
   "source": [
    "Great job!  In this lesson we practiced adding and multiplying vectors in numpy."
   ]
  }
 ],
 "metadata": {
  "kernelspec": {
   "display_name": "Python 3",
   "language": "python",
   "name": "python3"
  },
  "language_info": {
   "codemirror_mode": {
    "name": "ipython",
    "version": 3
   },
   "file_extension": ".py",
   "mimetype": "text/x-python",
   "name": "python",
   "nbconvert_exporter": "python",
   "pygments_lexer": "ipython3",
   "version": "3.7.1"
  }
 },
 "nbformat": 4,
 "nbformat_minor": 2
}
