{
 "cells": [
  {
   "cell_type": "markdown",
   "metadata": {},
   "source": [
    "# Object Lifecycle Practice"
   ]
  },
  {
   "cell_type": "markdown",
   "metadata": {},
   "source": [
    "### Introduction"
   ]
  },
  {
   "cell_type": "markdown",
   "metadata": {},
   "source": [
    "Now that we know about our object lifecycle method, let's refactor our previous class.  Copy and paste in your previous `Bundle` class from the `Understanding Self Lab`."
   ]
  },
  {
   "cell_type": "code",
   "execution_count": 7,
   "metadata": {},
   "outputs": [],
   "source": [
    "class Bundle:\n",
    "    def __init__(self, weight, dropoff_day, dropoff_month):\n",
    "        self.weight = weight\n",
    "        self.dropoff_day = dropoff_day\n",
    "        self.dropoff_month = dropoff_month\n",
    "    \n",
    "    def price(self):\n",
    "        if self.weight > 5:\n",
    "            return 10 + (self.weight-5) * 1.50\n",
    "        else:\n",
    "            return 10\n",
    "        \n",
    "    def monthDiff(self, month1, month2):\n",
    "        return (month1 - month2) * 30\n",
    "    \n",
    "    def processingDays(self):\n",
    "        return self.monthDiff(self.ready_month, self.dropoff_month) + self.ready_day - self.dropoff_day\n",
    "    \n",
    "    def holdingDays(self):\n",
    "        return self.monthDiff(self.pickup_month, self.dropoff_month) + self.pickup_day - self.dropoff_day\n"
   ]
  },
  {
   "cell_type": "markdown",
   "metadata": {},
   "source": [
    "### Refactoring"
   ]
  },
  {
   "cell_type": "markdown",
   "metadata": {},
   "source": [
    "Let's create one of our bundles."
   ]
  },
  {
   "cell_type": "code",
   "execution_count": 9,
   "metadata": {},
   "outputs": [
    {
     "ename": "TypeError",
     "evalue": "__init__() missing 3 required positional arguments: 'weight', 'dropoff_day', and 'dropoff_month'",
     "output_type": "error",
     "traceback": [
      "\u001b[0;31m---------------------------------------------------------------------------\u001b[0m",
      "\u001b[0;31mTypeError\u001b[0m                                 Traceback (most recent call last)",
      "\u001b[0;32m<ipython-input-9-854502e7e299>\u001b[0m in \u001b[0;36m<module>\u001b[0;34m\u001b[0m\n\u001b[0;32m----> 1\u001b[0;31m \u001b[0mbundle\u001b[0m \u001b[0;34m=\u001b[0m \u001b[0mBundle\u001b[0m\u001b[0;34m(\u001b[0m\u001b[0;34m)\u001b[0m\u001b[0;34m\u001b[0m\u001b[0;34m\u001b[0m\u001b[0m\n\u001b[0m",
      "\u001b[0;31mTypeError\u001b[0m: __init__() missing 3 required positional arguments: 'weight', 'dropoff_day', and 'dropoff_month'"
     ]
    }
   ],
   "source": [
    "bundle = Bundle()"
   ]
  },
  {
   "cell_type": "code",
   "execution_count": 3,
   "metadata": {},
   "outputs": [
    {
     "data": {
      "text/plain": [
       "dict_keys(['dropoff_month', 'dropoff_day', 'ready_month', 'ready_day'])"
      ]
     },
     "execution_count": 3,
     "metadata": {},
     "output_type": "execute_result"
    }
   ],
   "source": [
    "from test_helpers import addDaysToBundle\n",
    "\n",
    "bundle = Bundle()\n",
    "\n",
    "bundle\n",
    "\n",
    "addDaysToBundle(bundle)\n",
    "bundle.__dict__.keys()"
   ]
  },
  {
   "cell_type": "markdown",
   "metadata": {},
   "source": [
    "Now if we add an `__init__` method to our class, we are requiring certain information to be provided when we initialize the object.  Think about what information should be moved be required when initializing, and change the `Bundle` class accordingly."
   ]
  }
 ],
 "metadata": {
  "kernelspec": {
   "display_name": "Python 3",
   "language": "python",
   "name": "python3"
  },
  "language_info": {
   "codemirror_mode": {
    "name": "ipython",
    "version": 3
   },
   "file_extension": ".py",
   "mimetype": "text/x-python",
   "name": "python",
   "nbconvert_exporter": "python",
   "pygments_lexer": "ipython3",
   "version": "3.7.1"
  }
 },
 "nbformat": 4,
 "nbformat_minor": 2
}
